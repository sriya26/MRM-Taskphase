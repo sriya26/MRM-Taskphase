{
  "nbformat": 4,
  "nbformat_minor": 0,
  "metadata": {
    "colab": {
      "name": "mnist cnn.ipynb",
      "provenance": [],
      "collapsed_sections": []
    },
    "kernelspec": {
      "name": "python3",
      "display_name": "Python 3"
    },
    "language_info": {
      "name": "python"
    }
  },
  "cells": [
    {
      "cell_type": "code",
      "source": [
        "import torch\n",
        "from torchvision import datasets\n",
        "from torchvision.transforms import ToTensor\n",
        "import matplotlib.pyplot as plt\n",
        "from torch.utils.data import DataLoader\n",
        "import torch.nn as nn\n",
        "from torch import optim\n",
        "from torch.autograd import Variable"
      ],
      "metadata": {
        "id": "ZUeLZ0azBd3V"
      },
      "execution_count": 38,
      "outputs": []
    },
    {
      "cell_type": "code",
      "source": [
        "!pip install onnx"
      ],
      "metadata": {
        "colab": {
          "base_uri": "https://localhost:8080/"
        },
        "id": "b5jdPKpy_nF5",
        "outputId": "78395b00-ee9c-441a-91e0-1333df9e4c81"
      },
      "execution_count": 39,
      "outputs": [
        {
          "output_type": "stream",
          "name": "stdout",
          "text": [
            "Requirement already satisfied: onnx in /usr/local/lib/python3.7/dist-packages (1.11.0)\n",
            "Requirement already satisfied: numpy>=1.16.6 in /usr/local/lib/python3.7/dist-packages (from onnx) (1.21.5)\n",
            "Requirement already satisfied: protobuf>=3.12.2 in /usr/local/lib/python3.7/dist-packages (from onnx) (3.17.3)\n",
            "Requirement already satisfied: typing-extensions>=3.6.2.1 in /usr/local/lib/python3.7/dist-packages (from onnx) (3.10.0.2)\n",
            "Requirement already satisfied: six>=1.9 in /usr/local/lib/python3.7/dist-packages (from protobuf>=3.12.2->onnx) (1.15.0)\n"
          ]
        }
      ]
    },
    {
      "cell_type": "code",
      "source": [
        "import onnx"
      ],
      "metadata": {
        "id": "E0MEE2g2_v82"
      },
      "execution_count": 40,
      "outputs": []
    },
    {
      "cell_type": "code",
      "source": [
        "data_train = datasets.MNIST(\n",
        "    root = 'data',\n",
        "    train = True,                         \n",
        "    transform = ToTensor(), \n",
        "    download = True,            \n",
        ")\n",
        "data_test = datasets.MNIST(\n",
        "    root = 'data', \n",
        "    train = False, \n",
        "    transform = ToTensor()\n",
        ")"
      ],
      "metadata": {
        "id": "FfMORmVDnvBQ"
      },
      "execution_count": 41,
      "outputs": []
    },
    {
      "cell_type": "code",
      "source": [
        "print(data_train.data.size())\n",
        "print(data_train.targets.size())"
      ],
      "metadata": {
        "colab": {
          "base_uri": "https://localhost:8080/"
        },
        "id": "neDhge7fn-RG",
        "outputId": "205697c5-6c99-4004-8763-7b388e77e987"
      },
      "execution_count": 42,
      "outputs": [
        {
          "output_type": "stream",
          "name": "stdout",
          "text": [
            "torch.Size([60000, 28, 28])\n",
            "torch.Size([60000])\n"
          ]
        }
      ]
    },
    {
      "cell_type": "code",
      "source": [
        "plt.imshow(data_train.data[9], cmap='gray')\n",
        "plt.title('%i' % data_train.targets[9])\n",
        "plt.show()"
      ],
      "metadata": {
        "colab": {
          "base_uri": "https://localhost:8080/",
          "height": 281
        },
        "id": "3zlKtNd8oHVm",
        "outputId": "594e68b3-464f-409e-e4cc-306df9e39428"
      },
      "execution_count": 43,
      "outputs": [
        {
          "output_type": "display_data",
          "data": {
            "text/plain": [
              "<Figure size 432x288 with 1 Axes>"
            ],
            "image/png": "[encoded data removed]"
          },
          "metadata": {
            "needs_background": "light"
          }
        }
      ]
    },
    {
      "cell_type": "code",
      "source": [
        "loaders = {\n",
        "    'train' : torch.utils.data.DataLoader(data_train, \n",
        "                                          batch_size=100, \n",
        "                                          shuffle=True, \n",
        "                                          num_workers=1),\n",
        "    \n",
        "    'test'  : torch.utils.data.DataLoader(data_test, \n",
        "                                          batch_size=100, \n",
        "                                          shuffle=True, \n",
        "                                          num_workers=1),\n",
        "}\n",
        "loaders"
      ],
      "metadata": {
        "colab": {
          "base_uri": "https://localhost:8080/"
        },
        "id": "BYEtEGlPoVDQ",
        "outputId": "4d98edaf-c2f0-41f0-a855-b72ae2f6086e"
      },
      "execution_count": 44,
      "outputs": [
        {
          "output_type": "execute_result",
          "data": {
            "text/plain": [
              "{'test': <torch.utils.data.dataloader.DataLoader at 0x7fa27dcca850>,\n",
              " 'train': <torch.utils.data.dataloader.DataLoader at 0x7fa27dda3f10>}"
            ]
          },
          "metadata": {},
          "execution_count": 44
        }
      ]
    },
    {
      "cell_type": "code",
      "source": [
        "class CNN(nn.Module):\n",
        "    def __init__(self):\n",
        "        super(CNN, self).__init__()\n",
        "        self.conv1 = nn.Sequential(         \n",
        "            nn.Conv2d(\n",
        "                in_channels=1,              \n",
        "                out_channels=16,            \n",
        "                kernel_size=5,              \n",
        "                stride=1,                   \n",
        "                padding=2,                  \n",
        "            ),                              \n",
        "            nn.ReLU(),                      \n",
        "            nn.MaxPool2d(kernel_size=2),    \n",
        "        )\n",
        "        self.conv2 = nn.Sequential(         \n",
        "            nn.Conv2d(16, 32, 5, 1, 2),     \n",
        "            nn.ReLU(),                      \n",
        "            nn.MaxPool2d(2),                \n",
        "        )\n",
        "       \n",
        "        self.out = nn.Linear(32 * 7 * 7, 10)\n",
        "    def forward(self, x):\n",
        "        x = self.conv1(x)\n",
        "        x = self.conv2(x)\n",
        "        x = x.view(x.size(0), -1)       \n",
        "        output = self.out(x)\n",
        "        return output, x"
      ],
      "metadata": {
        "id": "bzrNdEUdoizR"
      },
      "execution_count": 45,
      "outputs": []
    },
    {
      "cell_type": "code",
      "source": [
        "cnn = CNN()\n",
        "print(cnn)"
      ],
      "metadata": {
        "colab": {
          "base_uri": "https://localhost:8080/"
        },
        "id": "5a_0VGrlos98",
        "outputId": "d5300401-bb82-4cc5-e626-864a690c61fd"
      },
      "execution_count": 46,
      "outputs": [
        {
          "output_type": "stream",
          "name": "stdout",
          "text": [
            "CNN(\n",
            "  (conv1): Sequential(\n",
            "    (0): Conv2d(1, 16, kernel_size=(5, 5), stride=(1, 1), padding=(2, 2))\n",
            "    (1): ReLU()\n",
            "    (2): MaxPool2d(kernel_size=2, stride=2, padding=0, dilation=1, ceil_mode=False)\n",
            "  )\n",
            "  (conv2): Sequential(\n",
            "    (0): Conv2d(16, 32, kernel_size=(5, 5), stride=(1, 1), padding=(2, 2))\n",
            "    (1): ReLU()\n",
            "    (2): MaxPool2d(kernel_size=2, stride=2, padding=0, dilation=1, ceil_mode=False)\n",
            "  )\n",
            "  (out): Linear(in_features=1568, out_features=10, bias=True)\n",
            ")\n"
          ]
        }
      ]
    },
    {
      "cell_type": "code",
      "source": [
        "loss_func = nn.CrossEntropyLoss()   "
      ],
      "metadata": {
        "id": "t8cv1l75owFq"
      },
      "execution_count": 47,
      "outputs": []
    },
    {
      "cell_type": "code",
      "source": [
        "optimizer = optim.Adam(cnn.parameters(), lr = 0.01)   \n"
      ],
      "metadata": {
        "id": "09iJjBYvozVy"
      },
      "execution_count": 48,
      "outputs": []
    },
    {
      "cell_type": "code",
      "source": [
        "num_epochs = 10\n",
        "def train(num_epochs, cnn, loaders):\n",
        "    \n",
        "    cnn.train()\n",
        "        \n",
        "    total_step = len(loaders['train'])\n",
        "        \n",
        "    for epoch in range(num_epochs):\n",
        "        for i, (images, labels) in enumerate(loaders['train']):\n",
        "            b_x = Variable(images)  \n",
        "            b_y = Variable(labels)   \n",
        "            output = cnn(b_x)[0]               \n",
        "            loss = loss_func(output, b_y)\n",
        "              \n",
        "            optimizer.zero_grad()           \n",
        "    \n",
        "            loss.backward()               \n",
        "            optimizer.step()                \n",
        "            \n",
        "            if (i+1) % 100 == 0:\n",
        "                print ('Epoch [{}/{}], Step [{}/{}], Loss: {:.4f}' \n",
        "                       .format(epoch + 1, num_epochs, i + 1, total_step, loss.item()))\n",
        "           \n",
        "train(num_epochs, cnn, loaders)"
      ],
      "metadata": {
        "colab": {
          "base_uri": "https://localhost:8080/"
        },
        "id": "zjmGWT7Wo2UC",
        "outputId": "8d91710f-3710-4f6d-e97b-2db5ca57aad4"
      },
      "execution_count": 49,
      "outputs": [
        {
          "output_type": "stream",
          "name": "stdout",
          "text": [
            "Epoch [1/10], Step [100/600], Loss: 0.2080\n",
            "Epoch [1/10], Step [200/600], Loss: 0.3088\n",
            "Epoch [1/10], Step [300/600], Loss: 0.0721\n",
            "Epoch [1/10], Step [400/600], Loss: 0.0395\n",
            "Epoch [1/10], Step [500/600], Loss: 0.0889\n",
            "Epoch [1/10], Step [600/600], Loss: 0.1731\n",
            "Epoch [2/10], Step [100/600], Loss: 0.0820\n",
            "Epoch [2/10], Step [200/600], Loss: 0.0222\n",
            "Epoch [2/10], Step [300/600], Loss: 0.0889\n",
            "Epoch [2/10], Step [400/600], Loss: 0.0525\n",
            "Epoch [2/10], Step [500/600], Loss: 0.0416\n",
            "Epoch [2/10], Step [600/600], Loss: 0.0712\n",
            "Epoch [3/10], Step [100/600], Loss: 0.0735\n",
            "Epoch [3/10], Step [200/600], Loss: 0.0823\n",
            "Epoch [3/10], Step [300/600], Loss: 0.1488\n",
            "Epoch [3/10], Step [400/600], Loss: 0.0516\n",
            "Epoch [3/10], Step [500/600], Loss: 0.1780\n",
            "Epoch [3/10], Step [600/600], Loss: 0.1208\n",
            "Epoch [4/10], Step [100/600], Loss: 0.0644\n",
            "Epoch [4/10], Step [200/600], Loss: 0.0553\n",
            "Epoch [4/10], Step [300/600], Loss: 0.0185\n",
            "Epoch [4/10], Step [400/600], Loss: 0.0200\n",
            "Epoch [4/10], Step [500/600], Loss: 0.0567\n",
            "Epoch [4/10], Step [600/600], Loss: 0.0493\n",
            "Epoch [5/10], Step [100/600], Loss: 0.1447\n",
            "Epoch [5/10], Step [200/600], Loss: 0.0207\n",
            "Epoch [5/10], Step [300/600], Loss: 0.0272\n",
            "Epoch [5/10], Step [400/600], Loss: 0.0737\n",
            "Epoch [5/10], Step [500/600], Loss: 0.0965\n",
            "Epoch [5/10], Step [600/600], Loss: 0.0103\n",
            "Epoch [6/10], Step [100/600], Loss: 0.0400\n",
            "Epoch [6/10], Step [200/600], Loss: 0.0429\n",
            "Epoch [6/10], Step [300/600], Loss: 0.0236\n",
            "Epoch [6/10], Step [400/600], Loss: 0.0561\n",
            "Epoch [6/10], Step [500/600], Loss: 0.1111\n",
            "Epoch [6/10], Step [600/600], Loss: 0.0148\n",
            "Epoch [7/10], Step [100/600], Loss: 0.0662\n",
            "Epoch [7/10], Step [200/600], Loss: 0.0278\n",
            "Epoch [7/10], Step [300/600], Loss: 0.0047\n",
            "Epoch [7/10], Step [400/600], Loss: 0.0803\n",
            "Epoch [7/10], Step [500/600], Loss: 0.0398\n",
            "Epoch [7/10], Step [600/600], Loss: 0.1320\n",
            "Epoch [8/10], Step [100/600], Loss: 0.1335\n",
            "Epoch [8/10], Step [200/600], Loss: 0.0439\n",
            "Epoch [8/10], Step [300/600], Loss: 0.1128\n",
            "Epoch [8/10], Step [400/600], Loss: 0.0208\n",
            "Epoch [8/10], Step [500/600], Loss: 0.0980\n",
            "Epoch [8/10], Step [600/600], Loss: 0.0190\n",
            "Epoch [9/10], Step [100/600], Loss: 0.0274\n",
            "Epoch [9/10], Step [200/600], Loss: 0.0559\n",
            "Epoch [9/10], Step [300/600], Loss: 0.0710\n",
            "Epoch [9/10], Step [400/600], Loss: 0.0258\n",
            "Epoch [9/10], Step [500/600], Loss: 0.0581\n",
            "Epoch [9/10], Step [600/600], Loss: 0.0267\n",
            "Epoch [10/10], Step [100/600], Loss: 0.0489\n",
            "Epoch [10/10], Step [200/600], Loss: 0.0022\n",
            "Epoch [10/10], Step [300/600], Loss: 0.0534\n",
            "Epoch [10/10], Step [400/600], Loss: 0.0065\n",
            "Epoch [10/10], Step [500/600], Loss: 0.0862\n",
            "Epoch [10/10], Step [600/600], Loss: 0.0202\n"
          ]
        }
      ]
    },
    {
      "cell_type": "code",
      "source": [
        "def test():\n",
        "  cnn.eval()\n",
        "  with torch.no_grad():\n",
        "    correct = 0\n",
        "    total = 0\n",
        "    for images, labels in loaders['test']:\n",
        "      test_output, last_layer = cnn(images)\n",
        "      pred_y = torch.max(test_output, 1)[1].data.squeeze()\n",
        "      accuracy = (pred_y == labels).sum().item() / float(labels.size(0))\n",
        "      pass\n",
        "  print('Test Accuracy : %.2f' % accuracy)\n",
        "\n",
        "test()\n",
        "\n",
        "\n",
        "    "
      ],
      "metadata": {
        "colab": {
          "base_uri": "https://localhost:8080/"
        },
        "id": "rWDaidNmryzy",
        "outputId": "66ba9aa3-b397-4d5b-edd7-6ee11192c61b"
      },
      "execution_count": 50,
      "outputs": [
        {
          "output_type": "stream",
          "name": "stdout",
          "text": [
            "Test Accuracy : 0.99\n"
          ]
        }
      ]
    },
    {
      "cell_type": "code",
      "source": [
        "torch.save(cnn.state_dict(), 'mnist.pt')"
      ],
      "metadata": {
        "id": "l5IGlq3LUZku"
      },
      "execution_count": 51,
      "outputs": []
    },
    {
      "cell_type": "code",
      "source": [
        "trained_model = CNN()\n",
        "trained_model.load_state_dict(torch.load('mnist.pt'))\n",
        "\n",
        "dummy_input = Variable(torch.randn(1, 1, 28, 28)) \n",
        "torch.onnx.export(trained_model, dummy_input, \"mnist.onnx\")"
      ],
      "metadata": {
        "id": "9V2vzQ3iURdl"
      },
      "execution_count": 52,
      "outputs": []
    }
  ]
}