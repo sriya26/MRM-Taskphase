{
  "nbformat": 4,
  "nbformat_minor": 0,
  "metadata": {
    "colab": {
      "name": "PCA and KMeans.ipynb",
      "provenance": [],
      "collapsed_sections": [],
      "authorship_tag": "ABX9TyMP7gyvmIaw7u4fYMH1wF7C",
      "include_colab_link": true
    },
    "kernelspec": {
      "name": "python3",
      "display_name": "Python 3"
    },
    "language_info": {
      "name": "python"
    }
  },
  "cells": [
    {
      "cell_type": "markdown",
      "metadata": {
        "id": "view-in-github",
        "colab_type": "text"
      },
      "source": [
        "<a href=\"https://colab.research.google.com/github/sriya26/MRM-Taskphase/blob/main/PCA_and_KMeans_new.ipynb\" target=\"_parent\"><img src=\"https://colab.research.google.com/assets/colab-badge.svg\" alt=\"Open In Colab\"/></a>"
      ]
    },
    {
      "cell_type": "code",
      "execution_count": 1,
      "metadata": {
        "id": "PgsKd3Wl_yPH"
      },
      "outputs": [],
      "source": [
        "import numpy as np\n",
        "import pandas as pd\n",
        "import matplotlib.pyplot as plt\n",
        "%matplotlib inline\n",
        "import seaborn as sns\n"
      ]
    },
    {
      "cell_type": "code",
      "source": [
        "from google.colab import drive\n",
        "drive.mount(\"/content/drive\")"
      ],
      "metadata": {
        "colab": {
          "base_uri": "https://localhost:8080/"
        },
        "id": "-8PQ5AWYDwtK",
        "outputId": "1d88ff55-ba8d-48c8-8763-4d6cdcbbdc53"
      },
      "execution_count": 2,
      "outputs": [
        {
          "output_type": "stream",
          "name": "stdout",
          "text": [
            "Mounted at /content/drive\n"
          ]
        }
      ]
    },
    {
      "cell_type": "code",
      "source": [
        "path = '/content/drive/MyDrive/Datasets/Country-data.csv'\n",
        "\n",
        "df = pd.read_csv(path)"
      ],
      "metadata": {
        "id": "VdWwkf5iEBH9"
      },
      "execution_count": 3,
      "outputs": []
    },
    {
      "cell_type": "code",
      "source": [
        "df.head(10)"
      ],
      "metadata": {
        "colab": {
          "base_uri": "https://localhost:8080/",
          "height": 363
        },
        "id": "dI92X4qbELz0",
        "outputId": "669b2d60-cd2b-4720-f712-6b2b54aabd28"
      },
      "execution_count": 4,
      "outputs": [
        {
          "output_type": "execute_result",
          "data": {
            "text/plain": [
              "               country  child_mort  exports  health  imports  income  \\\n",
              "0          Afghanistan        90.2     10.0    7.58     44.9    1610   \n",
              "1              Albania        16.6     28.0    6.55     48.6    9930   \n",
              "2              Algeria        27.3     38.4    4.17     31.4   12900   \n",
              "3               Angola       119.0     62.3    2.85     42.9    5900   \n",
              "4  Antigua and Barbuda        10.3     45.5    6.03     58.9   19100   \n",
              "5            Argentina        14.5     18.9    8.10     16.0   18700   \n",
              "6              Armenia        18.1     20.8    4.40     45.3    6700   \n",
              "7            Australia         4.8     19.8    8.73     20.9   41400   \n",
              "8              Austria         4.3     51.3   11.00     47.8   43200   \n",
              "9           Azerbaijan        39.2     54.3    5.88     20.7   16000   \n",
              "\n",
              "   inflation  life_expec  total_fer   gdpp  \n",
              "0      9.440        56.2       5.82    553  \n",
              "1      4.490        76.3       1.65   4090  \n",
              "2     16.100        76.5       2.89   4460  \n",
              "3     22.400        60.1       6.16   3530  \n",
              "4      1.440        76.8       2.13  12200  \n",
              "5     20.900        75.8       2.37  10300  \n",
              "6      7.770        73.3       1.69   3220  \n",
              "7      1.160        82.0       1.93  51900  \n",
              "8      0.873        80.5       1.44  46900  \n",
              "9     13.800        69.1       1.92   5840  "
            ],
            "text/html": [
              "\n",
              "  <div id=\"df-7019f826-a824-48cd-90cf-39703e779e00\">\n",
              "    <div class=\"colab-df-container\">\n",
              "      <div>\n",
              "<style scoped>\n",
              "    .dataframe tbody tr th:only-of-type {\n",
              "        vertical-align: middle;\n",
              "    }\n",
              "\n",
              "    .dataframe tbody tr th {\n",
              "        vertical-align: top;\n",
              "    }\n",
              "\n",
              "    .dataframe thead th {\n",
              "        text-align: right;\n",
              "    }\n",
              "</style>\n",
              "<table border=\"1\" class=\"dataframe\">\n",
              "  <thead>\n",
              "    <tr style=\"text-align: right;\">\n",
              "      <th></th>\n",
              "      <th>country</th>\n",
              "      <th>child_mort</th>\n",
              "      <th>exports</th>\n",
              "      <th>health</th>\n",
              "      <th>imports</th>\n",
              "      <th>income</th>\n",
              "      <th>inflation</th>\n",
              "      <th>life_expec</th>\n",
              "      <th>total_fer</th>\n",
              "      <th>gdpp</th>\n",
              "    </tr>\n",
              "  </thead>\n",
              "  <tbody>\n",
              "    <tr>\n",
              "      <th>0</th>\n",
              "      <td>Afghanistan</td>\n",
              "      <td>90.2</td>\n",
              "      <td>10.0</td>\n",
              "      <td>7.58</td>\n",
              "      <td>44.9</td>\n",
              "      <td>1610</td>\n",
              "      <td>9.440</td>\n",
              "      <td>56.2</td>\n",
              "      <td>5.82</td>\n",
              "      <td>553</td>\n",
              "    </tr>\n",
              "    <tr>\n",
              "      <th>1</th>\n",
              "      <td>Albania</td>\n",
              "      <td>16.6</td>\n",
              "      <td>28.0</td>\n",
              "      <td>6.55</td>\n",
              "      <td>48.6</td>\n",
              "      <td>9930</td>\n",
              "      <td>4.490</td>\n",
              "      <td>76.3</td>\n",
              "      <td>1.65</td>\n",
              "      <td>4090</td>\n",
              "    </tr>\n",
              "    <tr>\n",
              "      <th>2</th>\n",
              "      <td>Algeria</td>\n",
              "      <td>27.3</td>\n",
              "      <td>38.4</td>\n",
              "      <td>4.17</td>\n",
              "      <td>31.4</td>\n",
              "      <td>12900</td>\n",
              "      <td>16.100</td>\n",
              "      <td>76.5</td>\n",
              "      <td>2.89</td>\n",
              "      <td>4460</td>\n",
              "    </tr>\n",
              "    <tr>\n",
              "      <th>3</th>\n",
              "      <td>Angola</td>\n",
              "      <td>119.0</td>\n",
              "      <td>62.3</td>\n",
              "      <td>2.85</td>\n",
              "      <td>42.9</td>\n",
              "      <td>5900</td>\n",
              "      <td>22.400</td>\n",
              "      <td>60.1</td>\n",
              "      <td>6.16</td>\n",
              "      <td>3530</td>\n",
              "    </tr>\n",
              "    <tr>\n",
              "      <th>4</th>\n",
              "      <td>Antigua and Barbuda</td>\n",
              "      <td>10.3</td>\n",
              "      <td>45.5</td>\n",
              "      <td>6.03</td>\n",
              "      <td>58.9</td>\n",
              "      <td>19100</td>\n",
              "      <td>1.440</td>\n",
              "      <td>76.8</td>\n",
              "      <td>2.13</td>\n",
              "      <td>12200</td>\n",
              "    </tr>\n",
              "    <tr>\n",
              "      <th>5</th>\n",
              "      <td>Argentina</td>\n",
              "      <td>14.5</td>\n",
              "      <td>18.9</td>\n",
              "      <td>8.10</td>\n",
              "      <td>16.0</td>\n",
              "      <td>18700</td>\n",
              "      <td>20.900</td>\n",
              "      <td>75.8</td>\n",
              "      <td>2.37</td>\n",
              "      <td>10300</td>\n",
              "    </tr>\n",
              "    <tr>\n",
              "      <th>6</th>\n",
              "      <td>Armenia</td>\n",
              "      <td>18.1</td>\n",
              "      <td>20.8</td>\n",
              "      <td>4.40</td>\n",
              "      <td>45.3</td>\n",
              "      <td>6700</td>\n",
              "      <td>7.770</td>\n",
              "      <td>73.3</td>\n",
              "      <td>1.69</td>\n",
              "      <td>3220</td>\n",
              "    </tr>\n",
              "    <tr>\n",
              "      <th>7</th>\n",
              "      <td>Australia</td>\n",
              "      <td>4.8</td>\n",
              "      <td>19.8</td>\n",
              "      <td>8.73</td>\n",
              "      <td>20.9</td>\n",
              "      <td>41400</td>\n",
              "      <td>1.160</td>\n",
              "      <td>82.0</td>\n",
              "      <td>1.93</td>\n",
              "      <td>51900</td>\n",
              "    </tr>\n",
              "    <tr>\n",
              "      <th>8</th>\n",
              "      <td>Austria</td>\n",
              "      <td>4.3</td>\n",
              "      <td>51.3</td>\n",
              "      <td>11.00</td>\n",
              "      <td>47.8</td>\n",
              "      <td>43200</td>\n",
              "      <td>0.873</td>\n",
              "      <td>80.5</td>\n",
              "      <td>1.44</td>\n",
              "      <td>46900</td>\n",
              "    </tr>\n",
              "    <tr>\n",
              "      <th>9</th>\n",
              "      <td>Azerbaijan</td>\n",
              "      <td>39.2</td>\n",
              "      <td>54.3</td>\n",
              "      <td>5.88</td>\n",
              "      <td>20.7</td>\n",
              "      <td>16000</td>\n",
              "      <td>13.800</td>\n",
              "      <td>69.1</td>\n",
              "      <td>1.92</td>\n",
              "      <td>5840</td>\n",
              "    </tr>\n",
              "  </tbody>\n",
              "</table>\n",
              "</div>\n",
              "      <button class=\"colab-df-convert\" onclick=\"convertToInteractive('df-7019f826-a824-48cd-90cf-39703e779e00')\"\n",
              "              title=\"Convert this dataframe to an interactive table.\"\n",
              "              style=\"display:none;\">\n",
              "        \n",
              "  <svg xmlns=\"http://www.w3.org/2000/svg\" height=\"24px\"viewBox=\"0 0 24 24\"\n",
              "       width=\"24px\">\n",
              "    <path d=\"M0 0h24v24H0V0z\" fill=\"none\"/>\n",
              "    <path d=\"M18.56 5.44l.94 2.06.94-2.06 2.06-.94-2.06-.94-.94-2.06-.94 2.06-2.06.94zm-11 1L8.5 8.5l.94-2.06 2.06-.94-2.06-.94L8.5 2.5l-.94 2.06-2.06.94zm10 10l.94 2.06.94-2.06 2.06-.94-2.06-.94-.94-2.06-.94 2.06-2.06.94z\"/><path d=\"M17.41 7.96l-1.37-1.37c-.4-.4-.92-.59-1.43-.59-.52 0-1.04.2-1.43.59L10.3 9.45l-7.72 7.72c-.78.78-.78 2.05 0 2.83L4 21.41c.39.39.9.59 1.41.59.51 0 1.02-.2 1.41-.59l7.78-7.78 2.81-2.81c.8-.78.8-2.07 0-2.86zM5.41 20L4 18.59l7.72-7.72 1.47 1.35L5.41 20z\"/>\n",
              "  </svg>\n",
              "      </button>\n",
              "      \n",
              "  <style>\n",
              "    .colab-df-container {\n",
              "      display:flex;\n",
              "      flex-wrap:wrap;\n",
              "      gap: 12px;\n",
              "    }\n",
              "\n",
              "    .colab-df-convert {\n",
              "      background-color: #E8F0FE;\n",
              "      border: none;\n",
              "      border-radius: 50%;\n",
              "      cursor: pointer;\n",
              "      display: none;\n",
              "      fill: #1967D2;\n",
              "      height: 32px;\n",
              "      padding: 0 0 0 0;\n",
              "      width: 32px;\n",
              "    }\n",
              "\n",
              "    .colab-df-convert:hover {\n",
              "      background-color: #E2EBFA;\n",
              "      box-shadow: 0px 1px 2px rgba(60, 64, 67, 0.3), 0px 1px 3px 1px rgba(60, 64, 67, 0.15);\n",
              "      fill: #174EA6;\n",
              "    }\n",
              "\n",
              "    [theme=dark] .colab-df-convert {\n",
              "      background-color: #3B4455;\n",
              "      fill: #D2E3FC;\n",
              "    }\n",
              "\n",
              "    [theme=dark] .colab-df-convert:hover {\n",
              "      background-color: #434B5C;\n",
              "      box-shadow: 0px 1px 3px 1px rgba(0, 0, 0, 0.15);\n",
              "      filter: drop-shadow(0px 1px 2px rgba(0, 0, 0, 0.3));\n",
              "      fill: #FFFFFF;\n",
              "    }\n",
              "  </style>\n",
              "\n",
              "      <script>\n",
              "        const buttonEl =\n",
              "          document.querySelector('#df-7019f826-a824-48cd-90cf-39703e779e00 button.colab-df-convert');\n",
              "        buttonEl.style.display =\n",
              "          google.colab.kernel.accessAllowed ? 'block' : 'none';\n",
              "\n",
              "        async function convertToInteractive(key) {\n",
              "          const element = document.querySelector('#df-7019f826-a824-48cd-90cf-39703e779e00');\n",
              "          const dataTable =\n",
              "            await google.colab.kernel.invokeFunction('convertToInteractive',\n",
              "                                                     [key], {});\n",
              "          if (!dataTable) return;\n",
              "\n",
              "          const docLinkHtml = 'Like what you see? Visit the ' +\n",
              "            '<a target=\"_blank\" href=https://colab.research.google.com/notebooks/data_table.ipynb>data table notebook</a>'\n",
              "            + ' to learn more about interactive tables.';\n",
              "          element.innerHTML = '';\n",
              "          dataTable['output_type'] = 'display_data';\n",
              "          await google.colab.output.renderOutput(dataTable, element);\n",
              "          const docLink = document.createElement('div');\n",
              "          docLink.innerHTML = docLinkHtml;\n",
              "          element.appendChild(docLink);\n",
              "        }\n",
              "      </script>\n",
              "    </div>\n",
              "  </div>\n",
              "  "
            ]
          },
          "metadata": {},
          "execution_count": 4
        }
      ]
    },
    {
      "cell_type": "code",
      "source": [
        "df.info()"
      ],
      "metadata": {
        "colab": {
          "base_uri": "https://localhost:8080/"
        },
        "id": "qN7EQyoQEV5F",
        "outputId": "e3486cad-5d86-4af1-cc6e-f0a96e35fdd8"
      },
      "execution_count": 5,
      "outputs": [
        {
          "output_type": "stream",
          "name": "stdout",
          "text": [
            "<class 'pandas.core.frame.DataFrame'>\n",
            "RangeIndex: 167 entries, 0 to 166\n",
            "Data columns (total 10 columns):\n",
            " #   Column      Non-Null Count  Dtype  \n",
            "---  ------      --------------  -----  \n",
            " 0   country     167 non-null    object \n",
            " 1   child_mort  167 non-null    float64\n",
            " 2   exports     167 non-null    float64\n",
            " 3   health      167 non-null    float64\n",
            " 4   imports     167 non-null    float64\n",
            " 5   income      167 non-null    int64  \n",
            " 6   inflation   167 non-null    float64\n",
            " 7   life_expec  167 non-null    float64\n",
            " 8   total_fer   167 non-null    float64\n",
            " 9   gdpp        167 non-null    int64  \n",
            "dtypes: float64(7), int64(2), object(1)\n",
            "memory usage: 13.2+ KB\n"
          ]
        }
      ]
    },
    {
      "cell_type": "code",
      "source": [
        "df.describe()"
      ],
      "metadata": {
        "colab": {
          "base_uri": "https://localhost:8080/",
          "height": 300
        },
        "id": "KnOu03JoEcfS",
        "outputId": "d0b959db-92b5-4193-c379-06ffe1e76b60"
      },
      "execution_count": 6,
      "outputs": [
        {
          "output_type": "execute_result",
          "data": {
            "text/plain": [
              "       child_mort     exports      health     imports         income  \\\n",
              "count  167.000000  167.000000  167.000000  167.000000     167.000000   \n",
              "mean    38.270060   41.108976    6.815689   46.890215   17144.688623   \n",
              "std     40.328931   27.412010    2.746837   24.209589   19278.067698   \n",
              "min      2.600000    0.109000    1.810000    0.065900     609.000000   \n",
              "25%      8.250000   23.800000    4.920000   30.200000    3355.000000   \n",
              "50%     19.300000   35.000000    6.320000   43.300000    9960.000000   \n",
              "75%     62.100000   51.350000    8.600000   58.750000   22800.000000   \n",
              "max    208.000000  200.000000   17.900000  174.000000  125000.000000   \n",
              "\n",
              "        inflation  life_expec   total_fer           gdpp  \n",
              "count  167.000000  167.000000  167.000000     167.000000  \n",
              "mean     7.781832   70.555689    2.947964   12964.155689  \n",
              "std     10.570704    8.893172    1.513848   18328.704809  \n",
              "min     -4.210000   32.100000    1.150000     231.000000  \n",
              "25%      1.810000   65.300000    1.795000    1330.000000  \n",
              "50%      5.390000   73.100000    2.410000    4660.000000  \n",
              "75%     10.750000   76.800000    3.880000   14050.000000  \n",
              "max    104.000000   82.800000    7.490000  105000.000000  "
            ],
            "text/html": [
              "\n",
              "  <div id=\"df-d6579047-d96a-4588-80bb-a84334de153d\">\n",
              "    <div class=\"colab-df-container\">\n",
              "      <div>\n",
              "<style scoped>\n",
              "    .dataframe tbody tr th:only-of-type {\n",
              "        vertical-align: middle;\n",
              "    }\n",
              "\n",
              "    .dataframe tbody tr th {\n",
              "        vertical-align: top;\n",
              "    }\n",
              "\n",
              "    .dataframe thead th {\n",
              "        text-align: right;\n",
              "    }\n",
              "</style>\n",
              "<table border=\"1\" class=\"dataframe\">\n",
              "  <thead>\n",
              "    <tr style=\"text-align: right;\">\n",
              "      <th></th>\n",
              "      <th>child_mort</th>\n",
              "      <th>exports</th>\n",
              "      <th>health</th>\n",
              "      <th>imports</th>\n",
              "      <th>income</th>\n",
              "      <th>inflation</th>\n",
              "      <th>life_expec</th>\n",
              "      <th>total_fer</th>\n",
              "      <th>gdpp</th>\n",
              "    </tr>\n",
              "  </thead>\n",
              "  <tbody>\n",
              "    <tr>\n",
              "      <th>count</th>\n",
              "      <td>167.000000</td>\n",
              "      <td>167.000000</td>\n",
              "      <td>167.000000</td>\n",
              "      <td>167.000000</td>\n",
              "      <td>167.000000</td>\n",
              "      <td>167.000000</td>\n",
              "      <td>167.000000</td>\n",
              "      <td>167.000000</td>\n",
              "      <td>167.000000</td>\n",
              "    </tr>\n",
              "    <tr>\n",
              "      <th>mean</th>\n",
              "      <td>38.270060</td>\n",
              "      <td>41.108976</td>\n",
              "      <td>6.815689</td>\n",
              "      <td>46.890215</td>\n",
              "      <td>17144.688623</td>\n",
              "      <td>7.781832</td>\n",
              "      <td>70.555689</td>\n",
              "      <td>2.947964</td>\n",
              "      <td>12964.155689</td>\n",
              "    </tr>\n",
              "    <tr>\n",
              "      <th>std</th>\n",
              "      <td>40.328931</td>\n",
              "      <td>27.412010</td>\n",
              "      <td>2.746837</td>\n",
              "      <td>24.209589</td>\n",
              "      <td>19278.067698</td>\n",
              "      <td>10.570704</td>\n",
              "      <td>8.893172</td>\n",
              "      <td>1.513848</td>\n",
              "      <td>18328.704809</td>\n",
              "    </tr>\n",
              "    <tr>\n",
              "      <th>min</th>\n",
              "      <td>2.600000</td>\n",
              "      <td>0.109000</td>\n",
              "      <td>1.810000</td>\n",
              "      <td>0.065900</td>\n",
              "      <td>609.000000</td>\n",
              "      <td>-4.210000</td>\n",
              "      <td>32.100000</td>\n",
              "      <td>1.150000</td>\n",
              "      <td>231.000000</td>\n",
              "    </tr>\n",
              "    <tr>\n",
              "      <th>25%</th>\n",
              "      <td>8.250000</td>\n",
              "      <td>23.800000</td>\n",
              "      <td>4.920000</td>\n",
              "      <td>30.200000</td>\n",
              "      <td>3355.000000</td>\n",
              "      <td>1.810000</td>\n",
              "      <td>65.300000</td>\n",
              "      <td>1.795000</td>\n",
              "      <td>1330.000000</td>\n",
              "    </tr>\n",
              "    <tr>\n",
              "      <th>50%</th>\n",
              "      <td>19.300000</td>\n",
              "      <td>35.000000</td>\n",
              "      <td>6.320000</td>\n",
              "      <td>43.300000</td>\n",
              "      <td>9960.000000</td>\n",
              "      <td>5.390000</td>\n",
              "      <td>73.100000</td>\n",
              "      <td>2.410000</td>\n",
              "      <td>4660.000000</td>\n",
              "    </tr>\n",
              "    <tr>\n",
              "      <th>75%</th>\n",
              "      <td>62.100000</td>\n",
              "      <td>51.350000</td>\n",
              "      <td>8.600000</td>\n",
              "      <td>58.750000</td>\n",
              "      <td>22800.000000</td>\n",
              "      <td>10.750000</td>\n",
              "      <td>76.800000</td>\n",
              "      <td>3.880000</td>\n",
              "      <td>14050.000000</td>\n",
              "    </tr>\n",
              "    <tr>\n",
              "      <th>max</th>\n",
              "      <td>208.000000</td>\n",
              "      <td>200.000000</td>\n",
              "      <td>17.900000</td>\n",
              "      <td>174.000000</td>\n",
              "      <td>125000.000000</td>\n",
              "      <td>104.000000</td>\n",
              "      <td>82.800000</td>\n",
              "      <td>7.490000</td>\n",
              "      <td>105000.000000</td>\n",
              "    </tr>\n",
              "  </tbody>\n",
              "</table>\n",
              "</div>\n",
              "      <button class=\"colab-df-convert\" onclick=\"convertToInteractive('df-d6579047-d96a-4588-80bb-a84334de153d')\"\n",
              "              title=\"Convert this dataframe to an interactive table.\"\n",
              "              style=\"display:none;\">\n",
              "        \n",
              "  <svg xmlns=\"http://www.w3.org/2000/svg\" height=\"24px\"viewBox=\"0 0 24 24\"\n",
              "       width=\"24px\">\n",
              "    <path d=\"M0 0h24v24H0V0z\" fill=\"none\"/>\n",
              "    <path d=\"M18.56 5.44l.94 2.06.94-2.06 2.06-.94-2.06-.94-.94-2.06-.94 2.06-2.06.94zm-11 1L8.5 8.5l.94-2.06 2.06-.94-2.06-.94L8.5 2.5l-.94 2.06-2.06.94zm10 10l.94 2.06.94-2.06 2.06-.94-2.06-.94-.94-2.06-.94 2.06-2.06.94z\"/><path d=\"M17.41 7.96l-1.37-1.37c-.4-.4-.92-.59-1.43-.59-.52 0-1.04.2-1.43.59L10.3 9.45l-7.72 7.72c-.78.78-.78 2.05 0 2.83L4 21.41c.39.39.9.59 1.41.59.51 0 1.02-.2 1.41-.59l7.78-7.78 2.81-2.81c.8-.78.8-2.07 0-2.86zM5.41 20L4 18.59l7.72-7.72 1.47 1.35L5.41 20z\"/>\n",
              "  </svg>\n",
              "      </button>\n",
              "      \n",
              "  <style>\n",
              "    .colab-df-container {\n",
              "      display:flex;\n",
              "      flex-wrap:wrap;\n",
              "      gap: 12px;\n",
              "    }\n",
              "\n",
              "    .colab-df-convert {\n",
              "      background-color: #E8F0FE;\n",
              "      border: none;\n",
              "      border-radius: 50%;\n",
              "      cursor: pointer;\n",
              "      display: none;\n",
              "      fill: #1967D2;\n",
              "      height: 32px;\n",
              "      padding: 0 0 0 0;\n",
              "      width: 32px;\n",
              "    }\n",
              "\n",
              "    .colab-df-convert:hover {\n",
              "      background-color: #E2EBFA;\n",
              "      box-shadow: 0px 1px 2px rgba(60, 64, 67, 0.3), 0px 1px 3px 1px rgba(60, 64, 67, 0.15);\n",
              "      fill: #174EA6;\n",
              "    }\n",
              "\n",
              "    [theme=dark] .colab-df-convert {\n",
              "      background-color: #3B4455;\n",
              "      fill: #D2E3FC;\n",
              "    }\n",
              "\n",
              "    [theme=dark] .colab-df-convert:hover {\n",
              "      background-color: #434B5C;\n",
              "      box-shadow: 0px 1px 3px 1px rgba(0, 0, 0, 0.15);\n",
              "      filter: drop-shadow(0px 1px 2px rgba(0, 0, 0, 0.3));\n",
              "      fill: #FFFFFF;\n",
              "    }\n",
              "  </style>\n",
              "\n",
              "      <script>\n",
              "        const buttonEl =\n",
              "          document.querySelector('#df-d6579047-d96a-4588-80bb-a84334de153d button.colab-df-convert');\n",
              "        buttonEl.style.display =\n",
              "          google.colab.kernel.accessAllowed ? 'block' : 'none';\n",
              "\n",
              "        async function convertToInteractive(key) {\n",
              "          const element = document.querySelector('#df-d6579047-d96a-4588-80bb-a84334de153d');\n",
              "          const dataTable =\n",
              "            await google.colab.kernel.invokeFunction('convertToInteractive',\n",
              "                                                     [key], {});\n",
              "          if (!dataTable) return;\n",
              "\n",
              "          const docLinkHtml = 'Like what you see? Visit the ' +\n",
              "            '<a target=\"_blank\" href=https://colab.research.google.com/notebooks/data_table.ipynb>data table notebook</a>'\n",
              "            + ' to learn more about interactive tables.';\n",
              "          element.innerHTML = '';\n",
              "          dataTable['output_type'] = 'display_data';\n",
              "          await google.colab.output.renderOutput(dataTable, element);\n",
              "          const docLink = document.createElement('div');\n",
              "          docLink.innerHTML = docLinkHtml;\n",
              "          element.appendChild(docLink);\n",
              "        }\n",
              "      </script>\n",
              "    </div>\n",
              "  </div>\n",
              "  "
            ]
          },
          "metadata": {},
          "execution_count": 6
        }
      ]
    },
    {
      "cell_type": "code",
      "source": [
        "df.duplicated(subset = ['country']).sum()"
      ],
      "metadata": {
        "colab": {
          "base_uri": "https://localhost:8080/"
        },
        "id": "r7wu3oLJEvhF",
        "outputId": "04dd61de-1729-446b-8c46-868bb4dd32d0"
      },
      "execution_count": 7,
      "outputs": [
        {
          "output_type": "execute_result",
          "data": {
            "text/plain": [
              "0"
            ]
          },
          "metadata": {},
          "execution_count": 7
        }
      ]
    },
    {
      "cell_type": "code",
      "source": [
        "df.shape"
      ],
      "metadata": {
        "colab": {
          "base_uri": "https://localhost:8080/"
        },
        "id": "VyhzGDPCE8AH",
        "outputId": "518b4ed9-ce35-43d7-aa2f-0e53e0c7173a"
      },
      "execution_count": 8,
      "outputs": [
        {
          "output_type": "execute_result",
          "data": {
            "text/plain": [
              "(167, 10)"
            ]
          },
          "metadata": {},
          "execution_count": 8
        }
      ]
    },
    {
      "cell_type": "code",
      "source": [
        "plt.figure(figsize = (10,10))       \n",
        "sns.heatmap(df.corr(),annot = True)"
      ],
      "metadata": {
        "colab": {
          "base_uri": "https://localhost:8080/",
          "height": 613
        },
        "id": "KF8htHD8FLt4",
        "outputId": "a2be13c8-a6f2-42cc-e241-052c148bc6ed"
      },
      "execution_count": 9,
      "outputs": [
        {
          "output_type": "execute_result",
          "data": {
            "text/plain": [
              "<matplotlib.axes._subplots.AxesSubplot at 0x7f4f54531990>"
            ]
          },
          "metadata": {},
          "execution_count": 9
        },
        {
          "output_type": "display_data",
          "data": {
            "text/plain": [
              "<Figure size 720x720 with 2 Axes>"
            ],
            "image/png": "[encoded data removed]"
          },
          "metadata": {
            "needs_background": "light"
          }
        }
      ]
    },
    {
      "cell_type": "code",
      "source": [
        "Y=df['country']\n",
        "X=df.drop('country',axis =1)\n"
      ],
      "metadata": {
        "id": "L_NBjjGfLklr"
      },
      "execution_count": 10,
      "outputs": []
    },
    {
      "cell_type": "markdown",
      "source": [
        "**PCA**"
      ],
      "metadata": {
        "id": "FuEticiLGTxC"
      }
    },
    {
      "cell_type": "code",
      "source": [
        "num_list = ['child_mort', 'exports', 'health', 'imports', 'income', 'inflation', 'life_expec', 'total_fer', 'gdpp']\n",
        "def scale_features(X):\n",
        "    mean = np.mean(X, axis=0)\n",
        "    std = np.std(X, axis=0)\n",
        "\n",
        "    X -= mean\n",
        "    X /= std\n",
        "\n",
        "    return (X)"
      ],
      "metadata": {
        "id": "E9Z1FlTgKzo2"
      },
      "execution_count": 11,
      "outputs": []
    },
    {
      "cell_type": "code",
      "source": [
        "scale_features(X)"
      ],
      "metadata": {
        "colab": {
          "base_uri": "https://localhost:8080/",
          "height": 424
        },
        "id": "sk8VEhDmPGbd",
        "outputId": "90d66ec3-a8c7-496e-fc31-483a28174eac"
      },
      "execution_count": 12,
      "outputs": [
        {
          "output_type": "execute_result",
          "data": {
            "text/plain": [
              "     child_mort   exports    health   imports    income  inflation  \\\n",
              "0      1.291532 -1.138280  0.279088 -0.082455 -0.808245   0.157336   \n",
              "1     -0.538949 -0.479658 -0.097016  0.070837 -0.375369  -0.312347   \n",
              "2     -0.272833 -0.099122 -0.966073 -0.641762 -0.220844   0.789274   \n",
              "3      2.007808  0.775381 -1.448071 -0.165315 -0.585043   1.387054   \n",
              "4     -0.695634  0.160668 -0.286894  0.497568  0.101732  -0.601749   \n",
              "..          ...       ...       ...       ...       ...        ...   \n",
              "162   -0.225578  0.200917 -0.571711  0.240700 -0.738527  -0.489784   \n",
              "163   -0.526514 -0.461363 -0.695862 -1.213499 -0.033542   3.616865   \n",
              "164   -0.372315  1.130305  0.008877  1.380030 -0.658404   0.409732   \n",
              "165    0.448417 -0.406478 -0.597272 -0.517472 -0.658924   1.500916   \n",
              "166    1.114951 -0.150348 -0.338015 -0.662477 -0.721358   0.590015   \n",
              "\n",
              "     life_expec  total_fer      gdpp  \n",
              "0     -1.619092   1.902882 -0.679180  \n",
              "1      0.647866  -0.859973 -0.485623  \n",
              "2      0.670423  -0.038404 -0.465376  \n",
              "3     -1.179234   2.128151 -0.516268  \n",
              "4      0.704258  -0.541946 -0.041817  \n",
              "..          ...        ...       ...  \n",
              "162   -0.852161   0.365754 -0.546913  \n",
              "163    0.546361  -0.316678  0.029323  \n",
              "164    0.286958  -0.661206 -0.637754  \n",
              "165   -0.344633   1.140944 -0.637754  \n",
              "166   -2.092785   1.624609 -0.629546  \n",
              "\n",
              "[167 rows x 9 columns]"
            ],
            "text/html": [
              "\n",
              "  <div id=\"df-72189029-4555-450d-9876-792228682dd2\">\n",
              "    <div class=\"colab-df-container\">\n",
              "      <div>\n",
              "<style scoped>\n",
              "    .dataframe tbody tr th:only-of-type {\n",
              "        vertical-align: middle;\n",
              "    }\n",
              "\n",
              "    .dataframe tbody tr th {\n",
              "        vertical-align: top;\n",
              "    }\n",
              "\n",
              "    .dataframe thead th {\n",
              "        text-align: right;\n",
              "    }\n",
              "</style>\n",
              "<table border=\"1\" class=\"dataframe\">\n",
              "  <thead>\n",
              "    <tr style=\"text-align: right;\">\n",
              "      <th></th>\n",
              "      <th>child_mort</th>\n",
              "      <th>exports</th>\n",
              "      <th>health</th>\n",
              "      <th>imports</th>\n",
              "      <th>income</th>\n",
              "      <th>inflation</th>\n",
              "      <th>life_expec</th>\n",
              "      <th>total_fer</th>\n",
              "      <th>gdpp</th>\n",
              "    </tr>\n",
              "  </thead>\n",
              "  <tbody>\n",
              "    <tr>\n",
              "      <th>0</th>\n",
              "      <td>1.291532</td>\n",
              "      <td>-1.138280</td>\n",
              "      <td>0.279088</td>\n",
              "      <td>-0.082455</td>\n",
              "      <td>-0.808245</td>\n",
              "      <td>0.157336</td>\n",
              "      <td>-1.619092</td>\n",
              "      <td>1.902882</td>\n",
              "      <td>-0.679180</td>\n",
              "    </tr>\n",
              "    <tr>\n",
              "      <th>1</th>\n",
              "      <td>-0.538949</td>\n",
              "      <td>-0.479658</td>\n",
              "      <td>-0.097016</td>\n",
              "      <td>0.070837</td>\n",
              "      <td>-0.375369</td>\n",
              "      <td>-0.312347</td>\n",
              "      <td>0.647866</td>\n",
              "      <td>-0.859973</td>\n",
              "      <td>-0.485623</td>\n",
              "    </tr>\n",
              "    <tr>\n",
              "      <th>2</th>\n",
              "      <td>-0.272833</td>\n",
              "      <td>-0.099122</td>\n",
              "      <td>-0.966073</td>\n",
              "      <td>-0.641762</td>\n",
              "      <td>-0.220844</td>\n",
              "      <td>0.789274</td>\n",
              "      <td>0.670423</td>\n",
              "      <td>-0.038404</td>\n",
              "      <td>-0.465376</td>\n",
              "    </tr>\n",
              "    <tr>\n",
              "      <th>3</th>\n",
              "      <td>2.007808</td>\n",
              "      <td>0.775381</td>\n",
              "      <td>-1.448071</td>\n",
              "      <td>-0.165315</td>\n",
              "      <td>-0.585043</td>\n",
              "      <td>1.387054</td>\n",
              "      <td>-1.179234</td>\n",
              "      <td>2.128151</td>\n",
              "      <td>-0.516268</td>\n",
              "    </tr>\n",
              "    <tr>\n",
              "      <th>4</th>\n",
              "      <td>-0.695634</td>\n",
              "      <td>0.160668</td>\n",
              "      <td>-0.286894</td>\n",
              "      <td>0.497568</td>\n",
              "      <td>0.101732</td>\n",
              "      <td>-0.601749</td>\n",
              "      <td>0.704258</td>\n",
              "      <td>-0.541946</td>\n",
              "      <td>-0.041817</td>\n",
              "    </tr>\n",
              "    <tr>\n",
              "      <th>...</th>\n",
              "      <td>...</td>\n",
              "      <td>...</td>\n",
              "      <td>...</td>\n",
              "      <td>...</td>\n",
              "      <td>...</td>\n",
              "      <td>...</td>\n",
              "      <td>...</td>\n",
              "      <td>...</td>\n",
              "      <td>...</td>\n",
              "    </tr>\n",
              "    <tr>\n",
              "      <th>162</th>\n",
              "      <td>-0.225578</td>\n",
              "      <td>0.200917</td>\n",
              "      <td>-0.571711</td>\n",
              "      <td>0.240700</td>\n",
              "      <td>-0.738527</td>\n",
              "      <td>-0.489784</td>\n",
              "      <td>-0.852161</td>\n",
              "      <td>0.365754</td>\n",
              "      <td>-0.546913</td>\n",
              "    </tr>\n",
              "    <tr>\n",
              "      <th>163</th>\n",
              "      <td>-0.526514</td>\n",
              "      <td>-0.461363</td>\n",
              "      <td>-0.695862</td>\n",
              "      <td>-1.213499</td>\n",
              "      <td>-0.033542</td>\n",
              "      <td>3.616865</td>\n",
              "      <td>0.546361</td>\n",
              "      <td>-0.316678</td>\n",
              "      <td>0.029323</td>\n",
              "    </tr>\n",
              "    <tr>\n",
              "      <th>164</th>\n",
              "      <td>-0.372315</td>\n",
              "      <td>1.130305</td>\n",
              "      <td>0.008877</td>\n",
              "      <td>1.380030</td>\n",
              "      <td>-0.658404</td>\n",
              "      <td>0.409732</td>\n",
              "      <td>0.286958</td>\n",
              "      <td>-0.661206</td>\n",
              "      <td>-0.637754</td>\n",
              "    </tr>\n",
              "    <tr>\n",
              "      <th>165</th>\n",
              "      <td>0.448417</td>\n",
              "      <td>-0.406478</td>\n",
              "      <td>-0.597272</td>\n",
              "      <td>-0.517472</td>\n",
              "      <td>-0.658924</td>\n",
              "      <td>1.500916</td>\n",
              "      <td>-0.344633</td>\n",
              "      <td>1.140944</td>\n",
              "      <td>-0.637754</td>\n",
              "    </tr>\n",
              "    <tr>\n",
              "      <th>166</th>\n",
              "      <td>1.114951</td>\n",
              "      <td>-0.150348</td>\n",
              "      <td>-0.338015</td>\n",
              "      <td>-0.662477</td>\n",
              "      <td>-0.721358</td>\n",
              "      <td>0.590015</td>\n",
              "      <td>-2.092785</td>\n",
              "      <td>1.624609</td>\n",
              "      <td>-0.629546</td>\n",
              "    </tr>\n",
              "  </tbody>\n",
              "</table>\n",
              "<p>167 rows × 9 columns</p>\n",
              "</div>\n",
              "      <button class=\"colab-df-convert\" onclick=\"convertToInteractive('df-72189029-4555-450d-9876-792228682dd2')\"\n",
              "              title=\"Convert this dataframe to an interactive table.\"\n",
              "              style=\"display:none;\">\n",
              "        \n",
              "  <svg xmlns=\"http://www.w3.org/2000/svg\" height=\"24px\"viewBox=\"0 0 24 24\"\n",
              "       width=\"24px\">\n",
              "    <path d=\"M0 0h24v24H0V0z\" fill=\"none\"/>\n",
              "    <path d=\"M18.56 5.44l.94 2.06.94-2.06 2.06-.94-2.06-.94-.94-2.06-.94 2.06-2.06.94zm-11 1L8.5 8.5l.94-2.06 2.06-.94-2.06-.94L8.5 2.5l-.94 2.06-2.06.94zm10 10l.94 2.06.94-2.06 2.06-.94-2.06-.94-.94-2.06-.94 2.06-2.06.94z\"/><path d=\"M17.41 7.96l-1.37-1.37c-.4-.4-.92-.59-1.43-.59-.52 0-1.04.2-1.43.59L10.3 9.45l-7.72 7.72c-.78.78-.78 2.05 0 2.83L4 21.41c.39.39.9.59 1.41.59.51 0 1.02-.2 1.41-.59l7.78-7.78 2.81-2.81c.8-.78.8-2.07 0-2.86zM5.41 20L4 18.59l7.72-7.72 1.47 1.35L5.41 20z\"/>\n",
              "  </svg>\n",
              "      </button>\n",
              "      \n",
              "  <style>\n",
              "    .colab-df-container {\n",
              "      display:flex;\n",
              "      flex-wrap:wrap;\n",
              "      gap: 12px;\n",
              "    }\n",
              "\n",
              "    .colab-df-convert {\n",
              "      background-color: #E8F0FE;\n",
              "      border: none;\n",
              "      border-radius: 50%;\n",
              "      cursor: pointer;\n",
              "      display: none;\n",
              "      fill: #1967D2;\n",
              "      height: 32px;\n",
              "      padding: 0 0 0 0;\n",
              "      width: 32px;\n",
              "    }\n",
              "\n",
              "    .colab-df-convert:hover {\n",
              "      background-color: #E2EBFA;\n",
              "      box-shadow: 0px 1px 2px rgba(60, 64, 67, 0.3), 0px 1px 3px 1px rgba(60, 64, 67, 0.15);\n",
              "      fill: #174EA6;\n",
              "    }\n",
              "\n",
              "    [theme=dark] .colab-df-convert {\n",
              "      background-color: #3B4455;\n",
              "      fill: #D2E3FC;\n",
              "    }\n",
              "\n",
              "    [theme=dark] .colab-df-convert:hover {\n",
              "      background-color: #434B5C;\n",
              "      box-shadow: 0px 1px 3px 1px rgba(0, 0, 0, 0.15);\n",
              "      filter: drop-shadow(0px 1px 2px rgba(0, 0, 0, 0.3));\n",
              "      fill: #FFFFFF;\n",
              "    }\n",
              "  </style>\n",
              "\n",
              "      <script>\n",
              "        const buttonEl =\n",
              "          document.querySelector('#df-72189029-4555-450d-9876-792228682dd2 button.colab-df-convert');\n",
              "        buttonEl.style.display =\n",
              "          google.colab.kernel.accessAllowed ? 'block' : 'none';\n",
              "\n",
              "        async function convertToInteractive(key) {\n",
              "          const element = document.querySelector('#df-72189029-4555-450d-9876-792228682dd2');\n",
              "          const dataTable =\n",
              "            await google.colab.kernel.invokeFunction('convertToInteractive',\n",
              "                                                     [key], {});\n",
              "          if (!dataTable) return;\n",
              "\n",
              "          const docLinkHtml = 'Like what you see? Visit the ' +\n",
              "            '<a target=\"_blank\" href=https://colab.research.google.com/notebooks/data_table.ipynb>data table notebook</a>'\n",
              "            + ' to learn more about interactive tables.';\n",
              "          element.innerHTML = '';\n",
              "          dataTable['output_type'] = 'display_data';\n",
              "          await google.colab.output.renderOutput(dataTable, element);\n",
              "          const docLink = document.createElement('div');\n",
              "          docLink.innerHTML = docLinkHtml;\n",
              "          element.appendChild(docLink);\n",
              "        }\n",
              "      </script>\n",
              "    </div>\n",
              "  </div>\n",
              "  "
            ]
          },
          "metadata": {},
          "execution_count": 12
        }
      ]
    },
    {
      "cell_type": "code",
      "source": [
        "X.head()"
      ],
      "metadata": {
        "colab": {
          "base_uri": "https://localhost:8080/",
          "height": 206
        },
        "id": "5byZqgm6L9ZH",
        "outputId": "b632dc2c-40c2-408d-a46a-ccef20ec39a1"
      },
      "execution_count": 13,
      "outputs": [
        {
          "output_type": "execute_result",
          "data": {
            "text/plain": [
              "   child_mort   exports    health   imports    income  inflation  life_expec  \\\n",
              "0    1.291532 -1.138280  0.279088 -0.082455 -0.808245   0.157336   -1.619092   \n",
              "1   -0.538949 -0.479658 -0.097016  0.070837 -0.375369  -0.312347    0.647866   \n",
              "2   -0.272833 -0.099122 -0.966073 -0.641762 -0.220844   0.789274    0.670423   \n",
              "3    2.007808  0.775381 -1.448071 -0.165315 -0.585043   1.387054   -1.179234   \n",
              "4   -0.695634  0.160668 -0.286894  0.497568  0.101732  -0.601749    0.704258   \n",
              "\n",
              "   total_fer      gdpp  \n",
              "0   1.902882 -0.679180  \n",
              "1  -0.859973 -0.485623  \n",
              "2  -0.038404 -0.465376  \n",
              "3   2.128151 -0.516268  \n",
              "4  -0.541946 -0.041817  "
            ],
            "text/html": [
              "\n",
              "  <div id=\"df-3ae7e60c-7b3b-4e03-840e-4aaafbfbef4d\">\n",
              "    <div class=\"colab-df-container\">\n",
              "      <div>\n",
              "<style scoped>\n",
              "    .dataframe tbody tr th:only-of-type {\n",
              "        vertical-align: middle;\n",
              "    }\n",
              "\n",
              "    .dataframe tbody tr th {\n",
              "        vertical-align: top;\n",
              "    }\n",
              "\n",
              "    .dataframe thead th {\n",
              "        text-align: right;\n",
              "    }\n",
              "</style>\n",
              "<table border=\"1\" class=\"dataframe\">\n",
              "  <thead>\n",
              "    <tr style=\"text-align: right;\">\n",
              "      <th></th>\n",
              "      <th>child_mort</th>\n",
              "      <th>exports</th>\n",
              "      <th>health</th>\n",
              "      <th>imports</th>\n",
              "      <th>income</th>\n",
              "      <th>inflation</th>\n",
              "      <th>life_expec</th>\n",
              "      <th>total_fer</th>\n",
              "      <th>gdpp</th>\n",
              "    </tr>\n",
              "  </thead>\n",
              "  <tbody>\n",
              "    <tr>\n",
              "      <th>0</th>\n",
              "      <td>1.291532</td>\n",
              "      <td>-1.138280</td>\n",
              "      <td>0.279088</td>\n",
              "      <td>-0.082455</td>\n",
              "      <td>-0.808245</td>\n",
              "      <td>0.157336</td>\n",
              "      <td>-1.619092</td>\n",
              "      <td>1.902882</td>\n",
              "      <td>-0.679180</td>\n",
              "    </tr>\n",
              "    <tr>\n",
              "      <th>1</th>\n",
              "      <td>-0.538949</td>\n",
              "      <td>-0.479658</td>\n",
              "      <td>-0.097016</td>\n",
              "      <td>0.070837</td>\n",
              "      <td>-0.375369</td>\n",
              "      <td>-0.312347</td>\n",
              "      <td>0.647866</td>\n",
              "      <td>-0.859973</td>\n",
              "      <td>-0.485623</td>\n",
              "    </tr>\n",
              "    <tr>\n",
              "      <th>2</th>\n",
              "      <td>-0.272833</td>\n",
              "      <td>-0.099122</td>\n",
              "      <td>-0.966073</td>\n",
              "      <td>-0.641762</td>\n",
              "      <td>-0.220844</td>\n",
              "      <td>0.789274</td>\n",
              "      <td>0.670423</td>\n",
              "      <td>-0.038404</td>\n",
              "      <td>-0.465376</td>\n",
              "    </tr>\n",
              "    <tr>\n",
              "      <th>3</th>\n",
              "      <td>2.007808</td>\n",
              "      <td>0.775381</td>\n",
              "      <td>-1.448071</td>\n",
              "      <td>-0.165315</td>\n",
              "      <td>-0.585043</td>\n",
              "      <td>1.387054</td>\n",
              "      <td>-1.179234</td>\n",
              "      <td>2.128151</td>\n",
              "      <td>-0.516268</td>\n",
              "    </tr>\n",
              "    <tr>\n",
              "      <th>4</th>\n",
              "      <td>-0.695634</td>\n",
              "      <td>0.160668</td>\n",
              "      <td>-0.286894</td>\n",
              "      <td>0.497568</td>\n",
              "      <td>0.101732</td>\n",
              "      <td>-0.601749</td>\n",
              "      <td>0.704258</td>\n",
              "      <td>-0.541946</td>\n",
              "      <td>-0.041817</td>\n",
              "    </tr>\n",
              "  </tbody>\n",
              "</table>\n",
              "</div>\n",
              "      <button class=\"colab-df-convert\" onclick=\"convertToInteractive('df-3ae7e60c-7b3b-4e03-840e-4aaafbfbef4d')\"\n",
              "              title=\"Convert this dataframe to an interactive table.\"\n",
              "              style=\"display:none;\">\n",
              "        \n",
              "  <svg xmlns=\"http://www.w3.org/2000/svg\" height=\"24px\"viewBox=\"0 0 24 24\"\n",
              "       width=\"24px\">\n",
              "    <path d=\"M0 0h24v24H0V0z\" fill=\"none\"/>\n",
              "    <path d=\"M18.56 5.44l.94 2.06.94-2.06 2.06-.94-2.06-.94-.94-2.06-.94 2.06-2.06.94zm-11 1L8.5 8.5l.94-2.06 2.06-.94-2.06-.94L8.5 2.5l-.94 2.06-2.06.94zm10 10l.94 2.06.94-2.06 2.06-.94-2.06-.94-.94-2.06-.94 2.06-2.06.94z\"/><path d=\"M17.41 7.96l-1.37-1.37c-.4-.4-.92-.59-1.43-.59-.52 0-1.04.2-1.43.59L10.3 9.45l-7.72 7.72c-.78.78-.78 2.05 0 2.83L4 21.41c.39.39.9.59 1.41.59.51 0 1.02-.2 1.41-.59l7.78-7.78 2.81-2.81c.8-.78.8-2.07 0-2.86zM5.41 20L4 18.59l7.72-7.72 1.47 1.35L5.41 20z\"/>\n",
              "  </svg>\n",
              "      </button>\n",
              "      \n",
              "  <style>\n",
              "    .colab-df-container {\n",
              "      display:flex;\n",
              "      flex-wrap:wrap;\n",
              "      gap: 12px;\n",
              "    }\n",
              "\n",
              "    .colab-df-convert {\n",
              "      background-color: #E8F0FE;\n",
              "      border: none;\n",
              "      border-radius: 50%;\n",
              "      cursor: pointer;\n",
              "      display: none;\n",
              "      fill: #1967D2;\n",
              "      height: 32px;\n",
              "      padding: 0 0 0 0;\n",
              "      width: 32px;\n",
              "    }\n",
              "\n",
              "    .colab-df-convert:hover {\n",
              "      background-color: #E2EBFA;\n",
              "      box-shadow: 0px 1px 2px rgba(60, 64, 67, 0.3), 0px 1px 3px 1px rgba(60, 64, 67, 0.15);\n",
              "      fill: #174EA6;\n",
              "    }\n",
              "\n",
              "    [theme=dark] .colab-df-convert {\n",
              "      background-color: #3B4455;\n",
              "      fill: #D2E3FC;\n",
              "    }\n",
              "\n",
              "    [theme=dark] .colab-df-convert:hover {\n",
              "      background-color: #434B5C;\n",
              "      box-shadow: 0px 1px 3px 1px rgba(0, 0, 0, 0.15);\n",
              "      filter: drop-shadow(0px 1px 2px rgba(0, 0, 0, 0.3));\n",
              "      fill: #FFFFFF;\n",
              "    }\n",
              "  </style>\n",
              "\n",
              "      <script>\n",
              "        const buttonEl =\n",
              "          document.querySelector('#df-3ae7e60c-7b3b-4e03-840e-4aaafbfbef4d button.colab-df-convert');\n",
              "        buttonEl.style.display =\n",
              "          google.colab.kernel.accessAllowed ? 'block' : 'none';\n",
              "\n",
              "        async function convertToInteractive(key) {\n",
              "          const element = document.querySelector('#df-3ae7e60c-7b3b-4e03-840e-4aaafbfbef4d');\n",
              "          const dataTable =\n",
              "            await google.colab.kernel.invokeFunction('convertToInteractive',\n",
              "                                                     [key], {});\n",
              "          if (!dataTable) return;\n",
              "\n",
              "          const docLinkHtml = 'Like what you see? Visit the ' +\n",
              "            '<a target=\"_blank\" href=https://colab.research.google.com/notebooks/data_table.ipynb>data table notebook</a>'\n",
              "            + ' to learn more about interactive tables.';\n",
              "          element.innerHTML = '';\n",
              "          dataTable['output_type'] = 'display_data';\n",
              "          await google.colab.output.renderOutput(dataTable, element);\n",
              "          const docLink = document.createElement('div');\n",
              "          docLink.innerHTML = docLinkHtml;\n",
              "          element.appendChild(docLink);\n",
              "        }\n",
              "      </script>\n",
              "    </div>\n",
              "  </div>\n",
              "  "
            ]
          },
          "metadata": {},
          "execution_count": 13
        }
      ]
    },
    {
      "cell_type": "code",
      "source": [
        "def PCA(X, n_comp):\n",
        "  X = X - np.mean(X , axis = 0)\n",
        "  cov_mat = np.cov(X.T)\n",
        "  eig_values, eig_vectors = np.linalg.eig(cov_mat)\n",
        "  eig_vectors = eig_vectors.T\n",
        "  index = np.argsort(eig_values)[::-1]\n",
        "  eig_values = eig_values[index]\n",
        "  eig_vectors = eig_vectors[index]\n",
        "  comp=eig_vectors[0:n_comp]\n",
        "  X_transformed=np.dot(X, comp.T)\n",
        "     \n",
        "  return X_transformed,eig_values,eig_vectors"
      ],
      "metadata": {
        "id": "8trc3SVQRLKC"
      },
      "execution_count": 14,
      "outputs": []
    },
    {
      "cell_type": "code",
      "source": [
        "X_pca,eig_values,eig_vectors=PCA(X, 4)"
      ],
      "metadata": {
        "id": "VMhhj6qkTmvS"
      },
      "execution_count": 15,
      "outputs": []
    },
    {
      "cell_type": "code",
      "source": [
        "eig_vals_total = sum(eig_values)\n",
        "explained_variance = [(i / eig_vals_total)*100 for i in eig_values]\n",
        "cum_explained_variance = np.cumsum(explained_variance)\n",
        "\n",
        "print('Explained variance: {}'.format(explained_variance))\n",
        "print('Cumulative explained variance: {}'.format(cum_explained_variance))"
      ],
      "metadata": {
        "colab": {
          "base_uri": "https://localhost:8080/"
        },
        "id": "VcHCwLL6noZq",
        "outputId": "c2d887b4-5357-4d81-9008-ea53924b8e47"
      },
      "execution_count": 16,
      "outputs": [
        {
          "output_type": "stream",
          "name": "stdout",
          "text": [
            "Explained variance: [45.95173978609592, 17.18162565161821, 13.004258896953068, 11.053161805571904, 7.34021142415604, 2.4842346764277505, 1.2604303981650278, 0.9812817379261455, 0.743055623085951]\n",
            "Cumulative explained variance: [ 45.95173979  63.13336544  76.13762433  87.19078614  94.53099756\n",
            "  97.01523224  98.27566264  99.25694438 100.        ]\n"
          ]
        }
      ]
    },
    {
      "cell_type": "code",
      "source": [
        "fig = plt.figure(figsize = (15,10))\n",
        "plt.plot(cum_explained_variance)\n",
        "plt.xlabel('Number of Components')\n",
        "plt.ylabel('Cumulative Explained Variance')\n",
        "plt.grid()\n",
        "plt.show()"
      ],
      "metadata": {
        "colab": {
          "base_uri": "https://localhost:8080/",
          "height": 606
        },
        "id": "Pf7sUAG9pBRj",
        "outputId": "54201d49-fed4-4f77-c26f-8379f49ba6b3"
      },
      "execution_count": 17,
      "outputs": [
        {
          "output_type": "display_data",
          "data": {
            "text/plain": [
              "<Figure size 1080x720 with 1 Axes>"
            ],
            "image/png": "[encoded data removed]"
          },
          "metadata": {
            "needs_background": "light"
          }
        }
      ]
    },
    {
      "cell_type": "markdown",
      "source": [
        "after pc=4 there is not much gain in variance\n",
        "\n",
        "hence, pc=4 with 95% variance"
      ],
      "metadata": {
        "id": "uudU-IpuqRY2"
      }
    },
    {
      "cell_type": "code",
      "source": [
        "X_pca"
      ],
      "metadata": {
        "colab": {
          "base_uri": "https://localhost:8080/"
        },
        "id": "P4t2ZsVFuhoP",
        "outputId": "c30781eb-9df7-4b18-fc32-caa3de800bb7"
      },
      "execution_count": 18,
      "outputs": [
        {
          "output_type": "execute_result",
          "data": {
            "text/plain": [
              "array([[ 2.91302459e+00, -9.56205755e-02,  7.18118495e-01,\n",
              "        -1.00525464e+00],\n",
              "       [-4.29911330e-01,  5.88155666e-01,  3.33485505e-01,\n",
              "         1.16105859e+00],\n",
              "       [ 2.85225077e-01,  4.55174413e-01, -1.22150481e+00,\n",
              "         8.68114503e-01],\n",
              "       [ 2.93242265e+00, -1.69555507e+00, -1.52504374e+00,\n",
              "        -8.39625014e-01],\n",
              "       [-1.03357587e+00, -1.36658709e-01,  2.25720917e-01,\n",
              "         8.47062687e-01],\n",
              "       [-2.24072616e-02,  1.77918658e+00, -8.69997116e-01,\n",
              "         3.69668667e-02],\n",
              "       [ 1.01583737e-01,  5.68251724e-01, -2.42091816e-01,\n",
              "         1.46626576e+00],\n",
              "       [-2.34216461e+00,  1.98845915e+00, -1.90344188e-01,\n",
              "        -1.10503778e+00],\n",
              "       [-2.97376366e+00,  7.34688659e-01,  5.19766356e-01,\n",
              "        -1.20544210e+00],\n",
              "       [ 1.81486997e-01,  4.02865873e-01, -8.67458743e-01,\n",
              "         4.38772983e-01],\n",
              "       [-1.26874386e+00,  6.56588363e-01,  4.88097616e-01,\n",
              "        -5.56335553e-02],\n",
              "       [-1.67099640e+00, -5.61162493e-01, -9.91258303e-01,\n",
              "         2.07080475e-01],\n",
              "       [ 1.12385093e+00,  9.61397405e-01, -5.26614801e-01,\n",
              "         1.19720139e+00],\n",
              "       [-1.08137420e+00,  4.81969530e-01,  6.64355198e-01,\n",
              "         5.22505233e-01],\n",
              "       [-5.80025152e-01, -5.35326834e-01, -4.86227511e-01,\n",
              "         1.03527542e+00],\n",
              "       [-3.14378596e+00, -6.63547921e-01,  6.45228094e-01,\n",
              "        -1.09489775e+00],\n",
              "       [-2.11255447e-01, -6.99242662e-01,  2.75560900e-01,\n",
              "         1.09562692e+00],\n",
              "       [ 2.67231388e+00, -4.18172125e-01,  2.57368473e-01,\n",
              "        -2.78672434e-01],\n",
              "       [ 1.56570962e-01, -7.77395617e-01,  2.77343559e-01,\n",
              "         1.03865011e+00],\n",
              "       [ 7.93851561e-01,  1.20261085e-01, -4.00741495e-01,\n",
              "         7.24703290e-01],\n",
              "       [-9.95867143e-01,  9.71888439e-01,  1.52832760e+00,\n",
              "         6.20884792e-01],\n",
              "       [ 8.82087639e-01, -4.57368180e-01,  5.84632949e-01,\n",
              "        -4.06160810e-01],\n",
              "       [-1.40781361e-01,  2.15107731e+00,  1.72635153e-01,\n",
              "         1.66919647e-01],\n",
              "       [-2.46008609e+00, -1.64540436e-02, -3.01984039e+00,\n",
              "        -7.76840751e-01],\n",
              "       [-9.06594515e-01, -3.02776054e-02,  4.71204036e-01,\n",
              "         9.94661396e-01],\n",
              "       [ 3.12205344e+00, -3.87749688e-02,  4.55750797e-01,\n",
              "        -1.08091762e+00],\n",
              "       [ 2.89897068e+00,  4.22663328e-01,  1.34741345e+00,\n",
              "        -1.82147410e+00],\n",
              "       [ 5.82411867e-01, -8.94820332e-01,  4.98704660e-01,\n",
              "         8.05233622e-01],\n",
              "       [ 2.80790857e+00, -7.86488969e-02,  3.42961116e-01,\n",
              "        -5.43556844e-01],\n",
              "       [-2.54363055e+00,  1.72709470e+00,  3.96281023e-01,\n",
              "        -1.33685255e+00],\n",
              "       [ 1.55801452e-01, -3.51235458e-01,  2.92086671e-01,\n",
              "         1.34374110e+00],\n",
              "       [ 3.96496402e+00, -3.86619319e-01,  3.23556922e-01,\n",
              "        -9.18301019e-01],\n",
              "       [ 3.55755520e+00, -1.28912809e+00,  1.03015433e-01,\n",
              "        -1.20840642e+00],\n",
              "       [-9.51656055e-01,  1.07642827e+00, -1.50820820e-01,\n",
              "         4.36634193e-01],\n",
              "       [-5.74819803e-02,  1.18999652e+00, -4.27315488e-01,\n",
              "         1.27717888e+00],\n",
              "       [-1.21146120e-01,  1.76890914e+00,  2.45605887e-01,\n",
              "         7.15208871e-01],\n",
              "       [ 2.09355643e+00, -3.43600988e-01,  3.28381272e-01,\n",
              "         1.18947248e-01],\n",
              "       [ 3.17337012e+00, -1.05038163e+00,  1.21915456e-03,\n",
              "        -1.57421016e+00],\n",
              "       [ 1.72567641e+00, -2.17634895e+00, -1.49271940e+00,\n",
              "         1.38592628e-01],\n",
              "       [-9.37826615e-01,  1.35047238e+00,  8.21129661e-01,\n",
              "         2.59854592e-01],\n",
              "       [ 2.58170623e+00, -1.20787342e+00,  2.33066157e-01,\n",
              "        -6.65293359e-01],\n",
              "       [-1.14886344e+00,  8.44812046e-01,  4.09712564e-01,\n",
              "         6.22922553e-01],\n",
              "       [-2.17445492e+00,  4.51044737e-03, -2.57319634e-01,\n",
              "         3.11856544e-01],\n",
              "       [-2.05326329e+00, -4.23198280e-01,  5.43335682e-01,\n",
              "         4.11735959e-01],\n",
              "       [-3.01049182e+00,  8.65548729e-01,  3.35752167e-01,\n",
              "        -1.78722278e+00],\n",
              "       [ 2.31102923e-01,  8.80641302e-01,  3.67363816e-02,\n",
              "         6.53432853e-01],\n",
              "       [-9.61833240e-03,  1.04522097e+00,  2.73292441e-01,\n",
              "         4.88513719e-01],\n",
              "       [ 8.48186699e-01,  8.19818902e-01, -5.83289752e-01,\n",
              "         7.45230918e-01],\n",
              "       [-8.18678445e-02,  5.67803943e-01,  5.75877586e-01,\n",
              "         9.76520622e-01],\n",
              "       [ 1.29342284e+00, -2.36369455e+00, -1.77933449e+00,\n",
              "        -1.73724419e+00],\n",
              "       [ 2.47469590e+00,  6.18025236e-01, -8.03496573e-01,\n",
              "         4.88256238e-01],\n",
              "       [-1.65908340e+00, -1.02156447e+00,  1.11116210e-01,\n",
              "         8.63149640e-01],\n",
              "       [ 1.88828409e-01, -1.07176458e+00,  1.90494207e-01,\n",
              "         9.79835597e-01],\n",
              "       [-2.45896019e+00,  1.07614294e+00,  1.00439032e-01,\n",
              "        -8.99328358e-01],\n",
              "       [-2.25427080e+00,  1.86663813e+00,  7.11988312e-01,\n",
              "        -1.23000548e+00],\n",
              "       [ 1.42171455e+00, -3.19723358e-01, -1.53753336e+00,\n",
              "        -1.87759190e-01],\n",
              "       [ 2.21366958e+00, -2.23495896e-01,  3.93111292e-01,\n",
              "        -2.89914182e-01],\n",
              "       [-3.21942207e-01,  5.18255225e-01,  9.73687319e-01,\n",
              "         4.67061703e-01],\n",
              "       [-2.67142195e+00,  1.27360990e+00,  6.56170834e-01,\n",
              "        -1.12599297e+00],\n",
              "       [ 2.05416693e+00, -3.80034393e-01, -4.19654109e-01,\n",
              "        -9.09709651e-02],\n",
              "       [-1.77949294e+00,  1.76539693e+00,  6.84197774e-01,\n",
              "        -2.62701918e-01],\n",
              "       [-1.45504799e-01,  4.31336366e-01,  4.70467998e-01,\n",
              "         9.71167871e-01],\n",
              "       [ 6.63503125e-01,  6.13910837e-01,  3.32673741e-01,\n",
              "         4.45317091e-01],\n",
              "       [ 2.96952947e+00, -7.28533786e-01, -3.91038978e-01,\n",
              "        -6.66549494e-01],\n",
              "       [ 2.83361647e+00,  9.11281950e-02,  1.20517398e+00,\n",
              "        -1.13304489e+00],\n",
              "       [ 3.22781465e-01, -1.36134136e+00,  4.70512158e-01,\n",
              "         8.50455474e-01],\n",
              "       [ 4.40971727e+00, -1.74223049e+00,  1.46280874e+00,\n",
              "        -1.79359222e+00],\n",
              "       [-1.83916013e+00, -1.27296493e+00,  4.62631365e-01,\n",
              "         7.79275693e-01],\n",
              "       [-2.48092396e+00,  6.34701926e-01, -1.03795226e-01,\n",
              "        -9.19853150e-01],\n",
              "       [ 1.34282579e+00,  5.35138946e-01, -4.69946406e-01,\n",
              "         7.88293802e-01],\n",
              "       [ 9.54750124e-01,  7.32361786e-01, -1.37601104e+00,\n",
              "         1.14368788e+00],\n",
              "       [ 1.06461193e-03,  1.33434959e+00, -1.02280513e+00,\n",
              "         7.54546672e-01],\n",
              "       [ 1.02922816e+00,  2.83269323e-01, -1.92226813e-01,\n",
              "        -5.64140593e-01],\n",
              "       [-3.66862804e+00, -1.72949317e+00,  5.23988781e-01,\n",
              "        -9.89974650e-01],\n",
              "       [-1.48531666e+00,  1.04922436e+00, -7.67905341e-02,\n",
              "        -3.20989179e-01],\n",
              "       [-2.16580995e+00,  1.77248548e+00,  2.84183535e-01,\n",
              "        -5.16711898e-01],\n",
              "       [-1.86093002e-02,  2.38961304e-01, -3.33749817e-01,\n",
              "         1.22245645e+00],\n",
              "       [-2.26588199e+00,  2.43559383e+00,  2.29698666e-01,\n",
              "        -7.12566269e-01],\n",
              "       [-1.60142643e-01, -5.41065172e-01,  5.57529759e-01,\n",
              "         3.76534243e-01],\n",
              "       [ 2.93346500e-01,  2.37525434e-01, -1.49242624e+00,\n",
              "         4.53078232e-01],\n",
              "       [ 1.87470247e+00,  1.71029967e-01,  2.49557050e-01,\n",
              "         2.85554533e-01],\n",
              "       [ 1.23921686e+00, -3.69138411e-01,  2.36827382e+00,\n",
              "        -5.92231024e-01],\n",
              "       [-2.46565870e+00, -8.80497785e-02, -2.65226801e+00,\n",
              "        -7.08884420e-01],\n",
              "       [ 3.39969880e-01, -1.29819641e+00,  4.27860991e-01,\n",
              "         8.17320570e-01],\n",
              "       [ 1.52776995e+00, -5.45786891e-01, -1.37158928e-01,\n",
              "         4.15581903e-01],\n",
              "       [-1.18883984e+00, -1.62040035e-01,  4.88255279e-01,\n",
              "         9.30854536e-01],\n",
              "       [-1.17199076e+00,  2.56295112e-01,  6.18992305e-01,\n",
              "         1.05418607e+00],\n",
              "       [ 1.80315140e+00, -2.03785098e+00,  2.49688460e+00,\n",
              "        -1.07219875e+00],\n",
              "       [ 1.77358023e+00, -1.05339867e+00,  2.39044031e+00,\n",
              "        -1.17956908e+00],\n",
              "       [-8.18943051e-01, -3.89841660e-01, -1.48989162e+00,\n",
              "         6.19545661e-01],\n",
              "       [-1.40978812e+00, -7.29833198e-01,  4.08006476e-01,\n",
              "         7.64677732e-01],\n",
              "       [-6.91775496e+00, -4.84984369e+00, -1.00183722e+00,\n",
              "        -3.12964255e+00],\n",
              "       [-7.33210319e-01,  9.48674314e-02,  6.57276693e-01,\n",
              "         1.13823279e+00],\n",
              "       [ 2.13600867e+00, -3.42733042e-01, -2.34842232e-01,\n",
              "         3.17468942e-01],\n",
              "       [ 2.97988525e+00, -2.16622419e-01,  2.04596211e-01,\n",
              "        -8.39108028e-01],\n",
              "       [-1.23082842e+00, -1.60174864e+00, -5.38719368e-01,\n",
              "         1.08637235e+00],\n",
              "       [-1.10860101e+00, -1.00931426e+00,  2.69979852e-01,\n",
              "         1.08907107e+00],\n",
              "       [ 3.41225513e+00, -5.61468514e-01,  2.48615098e-01,\n",
              "        -1.07336391e+00],\n",
              "       [-3.67954260e+00, -4.76548605e+00,  1.02131344e+00,\n",
              "         5.01107355e-01],\n",
              "       [ 1.95392747e+00, -1.38338452e+00, -7.31461600e-01,\n",
              "        -1.95412788e-01],\n",
              "       [-8.99775055e-01, -4.16479781e-01,  3.81759043e-01,\n",
              "         1.07218433e+00],\n",
              "       [ 3.80928795e-01, -1.01773629e-01,  2.71408481e+00,\n",
              "        -7.71973760e-01],\n",
              "       [-5.09539453e-01, -1.61658340e-01,  1.56585938e+00,\n",
              "         4.18362236e-01],\n",
              "       [ 9.44975538e-01, -5.29799562e-01, -1.85441886e+00,\n",
              "         3.94165588e-01],\n",
              "       [-1.02668389e+00,  2.57641566e-01,  1.10361044e+00,\n",
              "         7.15644105e-01],\n",
              "       [ 2.32870156e-01,  2.81027769e-01,  2.61356785e-01,\n",
              "         1.07639425e+00],\n",
              "       [ 2.92054051e+00, -8.93270294e-01,  2.58704356e-01,\n",
              "        -6.33835111e-01],\n",
              "       [ 1.83719774e+00,  1.61366899e+00, -1.00948944e+00,\n",
              "         1.12321692e+00],\n",
              "       [ 1.04337471e+00, -1.00284112e+00,  7.32535356e-01,\n",
              "        -9.14828359e-02],\n",
              "       [ 1.30708985e+00,  7.89048631e-01, -3.89811057e-01,\n",
              "         7.53699430e-01],\n",
              "       [-3.37915727e+00, -1.15702442e-01,  7.38130024e-01,\n",
              "        -1.54303520e+00],\n",
              "       [-1.81574666e+00,  1.58472369e+00,  2.61355002e-01,\n",
              "        -7.35652166e-01],\n",
              "       [ 3.45016774e+00, -9.69922452e-01,  5.81452133e-01,\n",
              "        -1.12658091e+00],\n",
              "       [ 4.91206615e+00,  9.44986846e-02, -6.11015827e+00,\n",
              "        -2.41242140e+00],\n",
              "       [-3.72119513e+00,  1.44725498e+00, -8.88029059e-01,\n",
              "        -2.76433853e+00],\n",
              "       [-1.12738665e+00, -4.91611136e-01, -2.13350091e+00,\n",
              "         1.76492480e-01],\n",
              "       [ 2.36034718e+00,  4.79399646e-01, -1.01355540e+00,\n",
              "         4.21709938e-01],\n",
              "       [-1.16378429e+00, -1.11527620e+00,  7.90119264e-01,\n",
              "         5.45194408e-01],\n",
              "       [-1.17846224e-01, -3.61031140e-01,  4.66723186e-02,\n",
              "         9.46838629e-01],\n",
              "       [ 2.06354519e-02,  1.08661741e+00, -4.04348774e-01,\n",
              "         1.06962172e+00],\n",
              "       [ 7.82745871e-01,  9.64980905e-02, -3.09094042e-01,\n",
              "         1.08235769e+00],\n",
              "       [-1.21782754e+00,  6.59168961e-01,  3.11232316e-01,\n",
              "         6.95175223e-01],\n",
              "       [-1.81406748e+00,  1.45088654e+00,  9.42487215e-01,\n",
              "        -1.93791564e-01],\n",
              "       [-4.24229634e+00,  1.95603674e-01, -3.64387511e+00,\n",
              "        -2.38981058e+00],\n",
              "       [-5.72792704e-01,  6.37384843e-01, -8.63507590e-02,\n",
              "         1.02983930e+00],\n",
              "       [-1.63761544e-01,  1.06667848e+00, -1.09051847e+00,\n",
              "         6.44874077e-01],\n",
              "       [ 1.67970356e+00,  1.00162862e+00,  1.46843591e+00,\n",
              "        -6.73220742e-01],\n",
              "       [ 5.62897632e-01,  2.21043960e-02,  6.38390549e-01,\n",
              "         5.32651338e-01],\n",
              "       [-8.55935813e-01,  1.83440759e-01, -1.90307225e+00,\n",
              "        -2.02258954e-01],\n",
              "       [ 1.91217031e+00, -9.15599347e-02,  5.06958976e-01,\n",
              "        -2.76252708e-02],\n",
              "       [-8.32420187e-01,  8.69325996e-01,  1.01769287e+00,\n",
              "         5.03134235e-01],\n",
              "       [-1.60259775e+00, -2.93912057e+00,  3.86691417e-01,\n",
              "         1.40037119e+00],\n",
              "       [ 3.38162479e+00,  2.36301516e-01,  1.36425356e+00,\n",
              "        -2.58197644e+00],\n",
              "       [-5.78337630e+00, -6.68209028e+00, -6.54420074e-01,\n",
              "        -8.96376420e-02],\n",
              "       [-2.02972370e+00, -1.05040745e+00,  8.54978429e-01,\n",
              "         3.71447784e-01],\n",
              "       [-2.27949171e+00, -1.95275226e-01,  8.01535444e-01,\n",
              "         6.73604956e-02],\n",
              "       [ 8.06209136e-01, -1.30349059e+00,  1.22922699e+00,\n",
              "         4.23618753e-02],\n",
              "       [ 1.19183736e+00,  5.56757164e-01,  7.17965953e-01,\n",
              "        -5.50205983e-01],\n",
              "       [-1.91806245e+00,  4.27468245e-01, -1.40741993e-01,\n",
              "         4.72252955e-01],\n",
              "       [-2.01919721e+00,  1.78438246e+00,  3.80316498e-01,\n",
              "        -2.64389054e-01],\n",
              "       [ 5.75572155e-01,  9.97551478e-01, -1.75224072e+00,\n",
              "         1.37803039e+00],\n",
              "       [-2.66234652e-02,  1.60640815e-02,  3.85463343e-02,\n",
              "         1.22484232e+00],\n",
              "       [ 2.31942387e+00,  7.69407328e-01, -7.32740073e-01,\n",
              "        -4.92083043e-01],\n",
              "       [-1.71674731e-01,  9.48076409e-02, -1.20264550e-02,\n",
              "         3.76833834e-01],\n",
              "       [-2.81832286e+00,  9.14480968e-01,  1.01807170e-01,\n",
              "        -1.24227931e+00],\n",
              "       [-4.08854413e+00,  4.29461909e-01,  2.61547109e-01,\n",
              "        -2.30708671e+00],\n",
              "       [ 1.24446436e+00,  2.89174316e-02,  1.48159392e-01,\n",
              "         4.81045924e-01],\n",
              "       [ 2.55404919e+00,  2.15027956e-01,  8.84904657e-02,\n",
              "        -4.62226441e-01],\n",
              "       [-9.26092707e-01, -8.28230655e-01, -3.42015609e-01,\n",
              "         1.59519938e+00],\n",
              "       [ 2.37197047e+00,  1.17751295e+00, -3.98922832e-01,\n",
              "        -1.15804501e+00],\n",
              "       [ 1.99764225e+00, -9.58361586e-01,  1.21803661e+00,\n",
              "        -5.60916606e-01],\n",
              "       [ 7.55008538e-01,  8.78938568e-02,  4.23287693e-01,\n",
              "         8.54637175e-01],\n",
              "       [-6.02231612e-01, -1.73435708e-01,  2.43158206e-01,\n",
              "         1.11793721e+00],\n",
              "       [-4.01437705e-01,  1.41198973e+00, -2.25685264e-01,\n",
              "         5.63294782e-01],\n",
              "       [ 4.63936165e-01, -1.29187347e+00, -5.99238344e-01,\n",
              "         9.39834172e-01],\n",
              "       [ 2.85483624e+00,  3.52082382e-01,  7.00859396e-01,\n",
              "        -1.29627050e+00],\n",
              "       [-3.02299800e-01,  9.75710669e-02,  9.06375587e-02,\n",
              "         8.79675120e-01],\n",
              "       [-2.42714125e+00, -1.15181307e+00, -1.82853811e+00,\n",
              "        -2.76080223e-01],\n",
              "       [-2.06798993e+00,  1.53531349e+00,  2.52772015e-01,\n",
              "        -7.91524403e-01],\n",
              "       [-2.64120583e+00,  2.99736446e+00,  1.72187786e+00,\n",
              "        -2.82711027e+00],\n",
              "       [-6.17312598e-01,  1.43047723e+00,  2.44436640e-01,\n",
              "         3.58717593e-01],\n",
              "       [ 8.53528944e-01,  6.54485112e-01, -6.19884667e-01,\n",
              "         7.22182872e-01],\n",
              "       [ 8.20631131e-01, -6.39570072e-01,  3.89923152e-01,\n",
              "         7.06595241e-01],\n",
              "       [ 5.51035564e-01,  1.23388618e+00, -3.10135006e+00,\n",
              "         1.15311025e-01],\n",
              "       [-4.98524385e-01, -1.39074432e+00,  2.38526113e-01,\n",
              "         1.07409791e+00],\n",
              "       [ 1.88745106e+00,  1.09453015e-01, -1.10975159e+00,\n",
              "        -5.62567749e-02],\n",
              "       [ 2.86406392e+00, -4.85997985e-01, -2.23166581e-01,\n",
              "        -8.16364358e-01]])"
            ]
          },
          "metadata": {},
          "execution_count": 18
        }
      ]
    },
    {
      "cell_type": "code",
      "source": [
        "pca_df = pd.DataFrame(X_pca,columns = ['PC1', 'PC2','PC3','PC4'])\n"
      ],
      "metadata": {
        "id": "ocw-Z_54u-xt"
      },
      "execution_count": 19,
      "outputs": []
    },
    {
      "cell_type": "code",
      "source": [
        "plt.figure(figsize = (10,10))\n",
        "sns.heatmap(pca_df.corr(),annot = True)\n",
        "plt.show()"
      ],
      "metadata": {
        "colab": {
          "base_uri": "https://localhost:8080/",
          "height": 596
        },
        "id": "WcrepViZvOs8",
        "outputId": "45b903d6-7098-4f2b-ec50-625eb14821ce"
      },
      "execution_count": 20,
      "outputs": [
        {
          "output_type": "display_data",
          "data": {
            "text/plain": [
              "<Figure size 720x720 with 2 Axes>"
            ],
            "image/png": "[encoded data removed]"
          },
          "metadata": {
            "needs_background": "light"
          }
        }
      ]
    },
    {
      "cell_type": "code",
      "source": [
        "country = pd.DataFrame(Y)\n",
        "pca_df = pd.concat([country, pca_df], axis=1)\n",
        "pca_df"
      ],
      "metadata": {
        "colab": {
          "base_uri": "https://localhost:8080/",
          "height": 424
        },
        "id": "eOL5PtAsvgga",
        "outputId": "b86ff850-cbf1-4e51-d876-99dd690d931f"
      },
      "execution_count": 21,
      "outputs": [
        {
          "output_type": "execute_result",
          "data": {
            "text/plain": [
              "                 country       PC1       PC2       PC3       PC4\n",
              "0            Afghanistan  2.913025 -0.095621  0.718118 -1.005255\n",
              "1                Albania -0.429911  0.588156  0.333486  1.161059\n",
              "2                Algeria  0.285225  0.455174 -1.221505  0.868115\n",
              "3                 Angola  2.932423 -1.695555 -1.525044 -0.839625\n",
              "4    Antigua and Barbuda -1.033576 -0.136659  0.225721  0.847063\n",
              "..                   ...       ...       ...       ...       ...\n",
              "162              Vanuatu  0.820631 -0.639570  0.389923  0.706595\n",
              "163            Venezuela  0.551036  1.233886 -3.101350  0.115311\n",
              "164              Vietnam -0.498524 -1.390744  0.238526  1.074098\n",
              "165                Yemen  1.887451  0.109453 -1.109752 -0.056257\n",
              "166               Zambia  2.864064 -0.485998 -0.223167 -0.816364\n",
              "\n",
              "[167 rows x 5 columns]"
            ],
            "text/html": [
              "\n",
              "  <div id=\"df-b03429dc-49b1-48d2-b91c-afc5faa2fcd3\">\n",
              "    <div class=\"colab-df-container\">\n",
              "      <div>\n",
              "<style scoped>\n",
              "    .dataframe tbody tr th:only-of-type {\n",
              "        vertical-align: middle;\n",
              "    }\n",
              "\n",
              "    .dataframe tbody tr th {\n",
              "        vertical-align: top;\n",
              "    }\n",
              "\n",
              "    .dataframe thead th {\n",
              "        text-align: right;\n",
              "    }\n",
              "</style>\n",
              "<table border=\"1\" class=\"dataframe\">\n",
              "  <thead>\n",
              "    <tr style=\"text-align: right;\">\n",
              "      <th></th>\n",
              "      <th>country</th>\n",
              "      <th>PC1</th>\n",
              "      <th>PC2</th>\n",
              "      <th>PC3</th>\n",
              "      <th>PC4</th>\n",
              "    </tr>\n",
              "  </thead>\n",
              "  <tbody>\n",
              "    <tr>\n",
              "      <th>0</th>\n",
              "      <td>Afghanistan</td>\n",
              "      <td>2.913025</td>\n",
              "      <td>-0.095621</td>\n",
              "      <td>0.718118</td>\n",
              "      <td>-1.005255</td>\n",
              "    </tr>\n",
              "    <tr>\n",
              "      <th>1</th>\n",
              "      <td>Albania</td>\n",
              "      <td>-0.429911</td>\n",
              "      <td>0.588156</td>\n",
              "      <td>0.333486</td>\n",
              "      <td>1.161059</td>\n",
              "    </tr>\n",
              "    <tr>\n",
              "      <th>2</th>\n",
              "      <td>Algeria</td>\n",
              "      <td>0.285225</td>\n",
              "      <td>0.455174</td>\n",
              "      <td>-1.221505</td>\n",
              "      <td>0.868115</td>\n",
              "    </tr>\n",
              "    <tr>\n",
              "      <th>3</th>\n",
              "      <td>Angola</td>\n",
              "      <td>2.932423</td>\n",
              "      <td>-1.695555</td>\n",
              "      <td>-1.525044</td>\n",
              "      <td>-0.839625</td>\n",
              "    </tr>\n",
              "    <tr>\n",
              "      <th>4</th>\n",
              "      <td>Antigua and Barbuda</td>\n",
              "      <td>-1.033576</td>\n",
              "      <td>-0.136659</td>\n",
              "      <td>0.225721</td>\n",
              "      <td>0.847063</td>\n",
              "    </tr>\n",
              "    <tr>\n",
              "      <th>...</th>\n",
              "      <td>...</td>\n",
              "      <td>...</td>\n",
              "      <td>...</td>\n",
              "      <td>...</td>\n",
              "      <td>...</td>\n",
              "    </tr>\n",
              "    <tr>\n",
              "      <th>162</th>\n",
              "      <td>Vanuatu</td>\n",
              "      <td>0.820631</td>\n",
              "      <td>-0.639570</td>\n",
              "      <td>0.389923</td>\n",
              "      <td>0.706595</td>\n",
              "    </tr>\n",
              "    <tr>\n",
              "      <th>163</th>\n",
              "      <td>Venezuela</td>\n",
              "      <td>0.551036</td>\n",
              "      <td>1.233886</td>\n",
              "      <td>-3.101350</td>\n",
              "      <td>0.115311</td>\n",
              "    </tr>\n",
              "    <tr>\n",
              "      <th>164</th>\n",
              "      <td>Vietnam</td>\n",
              "      <td>-0.498524</td>\n",
              "      <td>-1.390744</td>\n",
              "      <td>0.238526</td>\n",
              "      <td>1.074098</td>\n",
              "    </tr>\n",
              "    <tr>\n",
              "      <th>165</th>\n",
              "      <td>Yemen</td>\n",
              "      <td>1.887451</td>\n",
              "      <td>0.109453</td>\n",
              "      <td>-1.109752</td>\n",
              "      <td>-0.056257</td>\n",
              "    </tr>\n",
              "    <tr>\n",
              "      <th>166</th>\n",
              "      <td>Zambia</td>\n",
              "      <td>2.864064</td>\n",
              "      <td>-0.485998</td>\n",
              "      <td>-0.223167</td>\n",
              "      <td>-0.816364</td>\n",
              "    </tr>\n",
              "  </tbody>\n",
              "</table>\n",
              "<p>167 rows × 5 columns</p>\n",
              "</div>\n",
              "      <button class=\"colab-df-convert\" onclick=\"convertToInteractive('df-b03429dc-49b1-48d2-b91c-afc5faa2fcd3')\"\n",
              "              title=\"Convert this dataframe to an interactive table.\"\n",
              "              style=\"display:none;\">\n",
              "        \n",
              "  <svg xmlns=\"http://www.w3.org/2000/svg\" height=\"24px\"viewBox=\"0 0 24 24\"\n",
              "       width=\"24px\">\n",
              "    <path d=\"M0 0h24v24H0V0z\" fill=\"none\"/>\n",
              "    <path d=\"M18.56 5.44l.94 2.06.94-2.06 2.06-.94-2.06-.94-.94-2.06-.94 2.06-2.06.94zm-11 1L8.5 8.5l.94-2.06 2.06-.94-2.06-.94L8.5 2.5l-.94 2.06-2.06.94zm10 10l.94 2.06.94-2.06 2.06-.94-2.06-.94-.94-2.06-.94 2.06-2.06.94z\"/><path d=\"M17.41 7.96l-1.37-1.37c-.4-.4-.92-.59-1.43-.59-.52 0-1.04.2-1.43.59L10.3 9.45l-7.72 7.72c-.78.78-.78 2.05 0 2.83L4 21.41c.39.39.9.59 1.41.59.51 0 1.02-.2 1.41-.59l7.78-7.78 2.81-2.81c.8-.78.8-2.07 0-2.86zM5.41 20L4 18.59l7.72-7.72 1.47 1.35L5.41 20z\"/>\n",
              "  </svg>\n",
              "      </button>\n",
              "      \n",
              "  <style>\n",
              "    .colab-df-container {\n",
              "      display:flex;\n",
              "      flex-wrap:wrap;\n",
              "      gap: 12px;\n",
              "    }\n",
              "\n",
              "    .colab-df-convert {\n",
              "      background-color: #E8F0FE;\n",
              "      border: none;\n",
              "      border-radius: 50%;\n",
              "      cursor: pointer;\n",
              "      display: none;\n",
              "      fill: #1967D2;\n",
              "      height: 32px;\n",
              "      padding: 0 0 0 0;\n",
              "      width: 32px;\n",
              "    }\n",
              "\n",
              "    .colab-df-convert:hover {\n",
              "      background-color: #E2EBFA;\n",
              "      box-shadow: 0px 1px 2px rgba(60, 64, 67, 0.3), 0px 1px 3px 1px rgba(60, 64, 67, 0.15);\n",
              "      fill: #174EA6;\n",
              "    }\n",
              "\n",
              "    [theme=dark] .colab-df-convert {\n",
              "      background-color: #3B4455;\n",
              "      fill: #D2E3FC;\n",
              "    }\n",
              "\n",
              "    [theme=dark] .colab-df-convert:hover {\n",
              "      background-color: #434B5C;\n",
              "      box-shadow: 0px 1px 3px 1px rgba(0, 0, 0, 0.15);\n",
              "      filter: drop-shadow(0px 1px 2px rgba(0, 0, 0, 0.3));\n",
              "      fill: #FFFFFF;\n",
              "    }\n",
              "  </style>\n",
              "\n",
              "      <script>\n",
              "        const buttonEl =\n",
              "          document.querySelector('#df-b03429dc-49b1-48d2-b91c-afc5faa2fcd3 button.colab-df-convert');\n",
              "        buttonEl.style.display =\n",
              "          google.colab.kernel.accessAllowed ? 'block' : 'none';\n",
              "\n",
              "        async function convertToInteractive(key) {\n",
              "          const element = document.querySelector('#df-b03429dc-49b1-48d2-b91c-afc5faa2fcd3');\n",
              "          const dataTable =\n",
              "            await google.colab.kernel.invokeFunction('convertToInteractive',\n",
              "                                                     [key], {});\n",
              "          if (!dataTable) return;\n",
              "\n",
              "          const docLinkHtml = 'Like what you see? Visit the ' +\n",
              "            '<a target=\"_blank\" href=https://colab.research.google.com/notebooks/data_table.ipynb>data table notebook</a>'\n",
              "            + ' to learn more about interactive tables.';\n",
              "          element.innerHTML = '';\n",
              "          dataTable['output_type'] = 'display_data';\n",
              "          await google.colab.output.renderOutput(dataTable, element);\n",
              "          const docLink = document.createElement('div');\n",
              "          docLink.innerHTML = docLinkHtml;\n",
              "          element.appendChild(docLink);\n",
              "        }\n",
              "      </script>\n",
              "    </div>\n",
              "  </div>\n",
              "  "
            ]
          },
          "metadata": {},
          "execution_count": 21
        }
      ]
    },
    {
      "cell_type": "markdown",
      "source": [
        "**Outliers**"
      ],
      "metadata": {
        "id": "qR3Ft7FYGZip"
      }
    },
    {
      "cell_type": "code",
      "source": [
        "fig, axs = plt.subplots(2,2, figsize = (15,7.5))\n",
        "\n",
        "plt1 = sns.boxplot(pca_df['PC1'], ax = axs[0,0])\n",
        "plt2 = sns.boxplot(pca_df['PC2'], ax = axs[0,1])\n",
        "plt3 = sns.boxplot(pca_df['PC3'], ax = axs[1,0])\n",
        "plt4 = sns.boxplot(pca_df['PC4'], ax = axs[1,1])"
      ],
      "metadata": {
        "colab": {
          "base_uri": "https://localhost:8080/",
          "height": 629
        },
        "id": "sai3alFqChXY",
        "outputId": "0642c7d7-a9fa-40e3-9e89-1bd616040ee3"
      },
      "execution_count": 22,
      "outputs": [
        {
          "output_type": "stream",
          "name": "stderr",
          "text": [
            "/usr/local/lib/python3.7/dist-packages/seaborn/_decorators.py:43: FutureWarning: Pass the following variable as a keyword arg: x. From version 0.12, the only valid positional argument will be `data`, and passing other arguments without an explicit keyword will result in an error or misinterpretation.\n",
            "  FutureWarning\n",
            "/usr/local/lib/python3.7/dist-packages/seaborn/_decorators.py:43: FutureWarning: Pass the following variable as a keyword arg: x. From version 0.12, the only valid positional argument will be `data`, and passing other arguments without an explicit keyword will result in an error or misinterpretation.\n",
            "  FutureWarning\n",
            "/usr/local/lib/python3.7/dist-packages/seaborn/_decorators.py:43: FutureWarning: Pass the following variable as a keyword arg: x. From version 0.12, the only valid positional argument will be `data`, and passing other arguments without an explicit keyword will result in an error or misinterpretation.\n",
            "  FutureWarning\n",
            "/usr/local/lib/python3.7/dist-packages/seaborn/_decorators.py:43: FutureWarning: Pass the following variable as a keyword arg: x. From version 0.12, the only valid positional argument will be `data`, and passing other arguments without an explicit keyword will result in an error or misinterpretation.\n",
            "  FutureWarning\n"
          ]
        },
        {
          "output_type": "display_data",
          "data": {
            "text/plain": [
              "<Figure size 1080x540 with 4 Axes>"
            ],
            "image/png": "[encoded data removed]"
          },
          "metadata": {
            "needs_background": "light"
          }
        }
      ]
    },
    {
      "cell_type": "markdown",
      "source": [
        "**K Means**"
      ],
      "metadata": {
        "id": "JqQwmUKzGdDd"
      }
    },
    {
      "cell_type": "markdown",
      "source": [
        "Elbow method and Silhouette score"
      ],
      "metadata": {
        "id": "KKQ1UwNTGhFh"
      }
    },
    {
      "cell_type": "code",
      "source": [
        "import random"
      ],
      "metadata": {
        "id": "x1qeFzLzv0-w"
      },
      "execution_count": 23,
      "outputs": []
    },
    {
      "cell_type": "code",
      "source": [
        "from sklearn.cluster import KMeans\n",
        "\n",
        "wcss = []\n",
        "for num_clusters in list(range(1,11)):\n",
        "    model = KMeans(n_clusters = num_clusters, max_iter=50)\n",
        "    model.fit(X_pca)\n",
        "    wcss.append(model.inertia_)"
      ],
      "metadata": {
        "id": "6Wj6JqYSwfJz"
      },
      "execution_count": 24,
      "outputs": []
    },
    {
      "cell_type": "code",
      "source": [
        "x = np.arange(10)\n",
        "plt.plot(x,wcss)\n",
        "plt.title(\"Elbow curve\")\n",
        "plt.xlabel(\"K -->\")\n",
        "plt.ylabel(\"WCSS\")"
      ],
      "metadata": {
        "colab": {
          "base_uri": "https://localhost:8080/",
          "height": 312
        },
        "id": "ck_nsyVp1pOe",
        "outputId": "c8eaa1e3-5aaf-404b-b7e5-48e7ec93897b"
      },
      "execution_count": 25,
      "outputs": [
        {
          "output_type": "execute_result",
          "data": {
            "text/plain": [
              "Text(0, 0.5, 'WCSS')"
            ]
          },
          "metadata": {},
          "execution_count": 25
        },
        {
          "output_type": "display_data",
          "data": {
            "text/plain": [
              "<Figure size 432x288 with 1 Axes>"
            ],
            "image/png": "[encoded data removed]"
          },
          "metadata": {
            "needs_background": "light"
          }
        }
      ]
    },
    {
      "cell_type": "code",
      "source": [
        "from sklearn.metrics import silhouette_score\n",
        "\n",
        "\n",
        "for k in range(2,11):\n",
        "    \n",
        "  \n",
        "    kmeans = KMeans(n_clusters=k)\n",
        "    kmeans.fit(X_pca)\n",
        "    \n",
        "    sil_score = silhouette_score(X_pca, kmeans.labels_)\n",
        "    print(\"For clusters={0}, silhouette score = {1}\".format(k, sil_score))"
      ],
      "metadata": {
        "colab": {
          "base_uri": "https://localhost:8080/"
        },
        "id": "pYFpyzOb4ZUi",
        "outputId": "746d18b3-2760-40d9-9f68-ad7d127d8e85"
      },
      "execution_count": 26,
      "outputs": [
        {
          "output_type": "stream",
          "name": "stdout",
          "text": [
            "For clusters=2, silhouette score = 0.32232389389280924\n",
            "For clusters=3, silhouette score = 0.3340859524580048\n",
            "For clusters=4, silhouette score = 0.35192526767255156\n",
            "For clusters=5, silhouette score = 0.28511618045640774\n",
            "For clusters=6, silhouette score = 0.29616252599551957\n",
            "For clusters=7, silhouette score = 0.29636110604296734\n",
            "For clusters=8, silhouette score = 0.28965353477396105\n",
            "For clusters=9, silhouette score = 0.27466948755755183\n",
            "For clusters=10, silhouette score = 0.2579194302099198\n"
          ]
        }
      ]
    },
    {
      "cell_type": "markdown",
      "source": [
        "K-Means"
      ],
      "metadata": {
        "id": "YioXXHkxGn5l"
      }
    },
    {
      "cell_type": "code",
      "source": [
        "def euc_distance(X1, X2):\n",
        "    return(sum((X1 - X2)**2))**0.5"
      ],
      "metadata": {
        "id": "o7NvcY9PoReI"
      },
      "execution_count": 27,
      "outputs": []
    },
    {
      "cell_type": "code",
      "source": [
        "def find_clusters(X,in_c):\n",
        "    assigned_centroid = []\n",
        "    for i in X:\n",
        "        distance=[]\n",
        "        for j in in_c:\n",
        "            distance.append(euc_distance(i, j))\n",
        "        assigned_centroid.append(np.argmin(distance))\n",
        "    return assigned_centroid"
      ],
      "metadata": {
        "id": "Trmhe9nDuVnD"
      },
      "execution_count": 28,
      "outputs": []
    },
    {
      "cell_type": "code",
      "source": [
        "def calc_centroids(X,clusters):\n",
        "    new_centroids = []\n",
        "    new_df = pd.concat([pd.DataFrame(X), pd.DataFrame(clusters, columns=['cluster'])],\n",
        "                      axis=1)\n",
        "    for c in set(new_df['cluster']):\n",
        "        current_cluster = new_df[new_df['cluster'] == c][new_df.columns[:-1]]\n",
        "        cluster_mean = current_cluster.mean(axis=0)\n",
        "        new_centroids.append(cluster_mean)\n",
        "    return new_centroids"
      ],
      "metadata": {
        "id": "0yK7M3-tuXlv"
      },
      "execution_count": 29,
      "outputs": []
    },
    {
      "cell_type": "code",
      "source": [
        "cent_pos = random.sample(range(0, len(X)), 4)"
      ],
      "metadata": {
        "id": "YLSnw9acuTW-"
      },
      "execution_count": 30,
      "outputs": []
    },
    {
      "cell_type": "code",
      "source": [
        "initial_centroids = []\n",
        "for i in cent_pos:\n",
        "    initial_centroids.append(X_pca[i])"
      ],
      "metadata": {
        "id": "Ld1t2lyJucbm"
      },
      "execution_count": 31,
      "outputs": []
    },
    {
      "cell_type": "code",
      "source": [
        "in_c = np.array(initial_centroids)\n",
        "in_c"
      ],
      "metadata": {
        "id": "PrR2Zx6xufXo",
        "colab": {
          "base_uri": "https://localhost:8080/"
        },
        "outputId": "b7dc4116-d398-45cf-dcb4-f9039c44a04e"
      },
      "execution_count": 32,
      "outputs": [
        {
          "output_type": "execute_result",
          "data": {
            "text/plain": [
              "array([[ 2.58170623, -1.20787342,  0.23306616, -0.66529336],\n",
              "       [-0.5727927 ,  0.63738484, -0.08635076,  1.0298393 ],\n",
              "       [ 0.8481867 ,  0.8198189 , -0.58328975,  0.74523092],\n",
              "       [-0.90659452, -0.03027761,  0.47120404,  0.9946614 ]])"
            ]
          },
          "metadata": {},
          "execution_count": 32
        }
      ]
    },
    {
      "cell_type": "code",
      "source": [
        "clusters = find_clusters(X_pca,initial_centroids)\n",
        "clusters"
      ],
      "metadata": {
        "id": "03znjq7_uhCB",
        "colab": {
          "base_uri": "https://localhost:8080/"
        },
        "outputId": "a7d91f52-7f14-493b-8d23-a9542ef0985d"
      },
      "execution_count": 33,
      "outputs": [
        {
          "output_type": "execute_result",
          "data": {
            "text/plain": [
              "[0,\n",
              " 1,\n",
              " 2,\n",
              " 0,\n",
              " 3,\n",
              " 2,\n",
              " 1,\n",
              " 1,\n",
              " 3,\n",
              " 2,\n",
              " 3,\n",
              " 3,\n",
              " 2,\n",
              " 3,\n",
              " 3,\n",
              " 3,\n",
              " 3,\n",
              " 0,\n",
              " 3,\n",
              " 2,\n",
              " 3,\n",
              " 0,\n",
              " 1,\n",
              " 1,\n",
              " 3,\n",
              " 0,\n",
              " 0,\n",
              " 3,\n",
              " 0,\n",
              " 1,\n",
              " 3,\n",
              " 0,\n",
              " 0,\n",
              " 1,\n",
              " 1,\n",
              " 1,\n",
              " 0,\n",
              " 0,\n",
              " 0,\n",
              " 1,\n",
              " 0,\n",
              " 1,\n",
              " 3,\n",
              " 3,\n",
              " 3,\n",
              " 2,\n",
              " 1,\n",
              " 2,\n",
              " 1,\n",
              " 0,\n",
              " 2,\n",
              " 3,\n",
              " 3,\n",
              " 3,\n",
              " 1,\n",
              " 2,\n",
              " 0,\n",
              " 3,\n",
              " 3,\n",
              " 0,\n",
              " 1,\n",
              " 1,\n",
              " 2,\n",
              " 0,\n",
              " 0,\n",
              " 3,\n",
              " 0,\n",
              " 3,\n",
              " 3,\n",
              " 2,\n",
              " 2,\n",
              " 2,\n",
              " 2,\n",
              " 3,\n",
              " 1,\n",
              " 1,\n",
              " 1,\n",
              " 1,\n",
              " 3,\n",
              " 2,\n",
              " 2,\n",
              " 0,\n",
              " 1,\n",
              " 3,\n",
              " 2,\n",
              " 3,\n",
              " 3,\n",
              " 0,\n",
              " 0,\n",
              " 1,\n",
              " 3,\n",
              " 3,\n",
              " 3,\n",
              " 0,\n",
              " 0,\n",
              " 3,\n",
              " 3,\n",
              " 0,\n",
              " 3,\n",
              " 0,\n",
              " 3,\n",
              " 3,\n",
              " 3,\n",
              " 2,\n",
              " 3,\n",
              " 1,\n",
              " 0,\n",
              " 2,\n",
              " 0,\n",
              " 2,\n",
              " 3,\n",
              " 1,\n",
              " 0,\n",
              " 0,\n",
              " 1,\n",
              " 1,\n",
              " 2,\n",
              " 3,\n",
              " 3,\n",
              " 1,\n",
              " 2,\n",
              " 1,\n",
              " 3,\n",
              " 1,\n",
              " 1,\n",
              " 2,\n",
              " 2,\n",
              " 2,\n",
              " 1,\n",
              " 0,\n",
              " 3,\n",
              " 3,\n",
              " 0,\n",
              " 3,\n",
              " 3,\n",
              " 3,\n",
              " 0,\n",
              " 2,\n",
              " 3,\n",
              " 1,\n",
              " 2,\n",
              " 1,\n",
              " 2,\n",
              " 1,\n",
              " 3,\n",
              " 3,\n",
              " 2,\n",
              " 0,\n",
              " 3,\n",
              " 2,\n",
              " 0,\n",
              " 2,\n",
              " 3,\n",
              " 1,\n",
              " 3,\n",
              " 0,\n",
              " 1,\n",
              " 3,\n",
              " 1,\n",
              " 1,\n",
              " 1,\n",
              " 2,\n",
              " 2,\n",
              " 2,\n",
              " 3,\n",
              " 2,\n",
              " 0]"
            ]
          },
          "metadata": {},
          "execution_count": 33
        }
      ]
    },
    {
      "cell_type": "code",
      "source": [
        "centroids = initial_centroids\n",
        "for i in range(20):\n",
        "    cluster = find_clusters( X_pca,centroids)\n",
        "    centroids = calc_centroids(X_pca,cluster)"
      ],
      "metadata": {
        "id": "7VK-mevKujST"
      },
      "execution_count": 34,
      "outputs": []
    },
    {
      "cell_type": "code",
      "source": [
        "cluster"
      ],
      "metadata": {
        "colab": {
          "base_uri": "https://localhost:8080/"
        },
        "id": "j6Ao9UrhulrE",
        "outputId": "31bf6142-8aac-4f20-8e32-50f06d8dfc31"
      },
      "execution_count": 35,
      "outputs": [
        {
          "output_type": "execute_result",
          "data": {
            "text/plain": [
              "[0,\n",
              " 2,\n",
              " 2,\n",
              " 0,\n",
              " 2,\n",
              " 2,\n",
              " 2,\n",
              " 1,\n",
              " 1,\n",
              " 2,\n",
              " 2,\n",
              " 2,\n",
              " 2,\n",
              " 2,\n",
              " 2,\n",
              " 1,\n",
              " 2,\n",
              " 0,\n",
              " 2,\n",
              " 2,\n",
              " 2,\n",
              " 0,\n",
              " 2,\n",
              " 1,\n",
              " 2,\n",
              " 0,\n",
              " 0,\n",
              " 2,\n",
              " 0,\n",
              " 1,\n",
              " 2,\n",
              " 0,\n",
              " 0,\n",
              " 2,\n",
              " 2,\n",
              " 2,\n",
              " 0,\n",
              " 0,\n",
              " 0,\n",
              " 2,\n",
              " 0,\n",
              " 2,\n",
              " 1,\n",
              " 2,\n",
              " 1,\n",
              " 2,\n",
              " 2,\n",
              " 2,\n",
              " 2,\n",
              " 0,\n",
              " 0,\n",
              " 2,\n",
              " 2,\n",
              " 1,\n",
              " 1,\n",
              " 0,\n",
              " 0,\n",
              " 2,\n",
              " 1,\n",
              " 0,\n",
              " 1,\n",
              " 2,\n",
              " 2,\n",
              " 0,\n",
              " 0,\n",
              " 2,\n",
              " 0,\n",
              " 2,\n",
              " 1,\n",
              " 2,\n",
              " 2,\n",
              " 2,\n",
              " 0,\n",
              " 1,\n",
              " 1,\n",
              " 1,\n",
              " 2,\n",
              " 1,\n",
              " 2,\n",
              " 2,\n",
              " 0,\n",
              " 0,\n",
              " 1,\n",
              " 2,\n",
              " 0,\n",
              " 2,\n",
              " 2,\n",
              " 0,\n",
              " 0,\n",
              " 2,\n",
              " 2,\n",
              " 3,\n",
              " 2,\n",
              " 0,\n",
              " 0,\n",
              " 2,\n",
              " 2,\n",
              " 0,\n",
              " 3,\n",
              " 0,\n",
              " 2,\n",
              " 2,\n",
              " 2,\n",
              " 2,\n",
              " 2,\n",
              " 2,\n",
              " 0,\n",
              " 2,\n",
              " 0,\n",
              " 2,\n",
              " 1,\n",
              " 1,\n",
              " 0,\n",
              " 0,\n",
              " 1,\n",
              " 2,\n",
              " 0,\n",
              " 2,\n",
              " 2,\n",
              " 2,\n",
              " 2,\n",
              " 2,\n",
              " 1,\n",
              " 1,\n",
              " 2,\n",
              " 2,\n",
              " 0,\n",
              " 2,\n",
              " 2,\n",
              " 0,\n",
              " 2,\n",
              " 2,\n",
              " 0,\n",
              " 3,\n",
              " 2,\n",
              " 1,\n",
              " 0,\n",
              " 0,\n",
              " 1,\n",
              " 1,\n",
              " 2,\n",
              " 2,\n",
              " 0,\n",
              " 2,\n",
              " 1,\n",
              " 1,\n",
              " 2,\n",
              " 0,\n",
              " 2,\n",
              " 0,\n",
              " 0,\n",
              " 2,\n",
              " 2,\n",
              " 2,\n",
              " 2,\n",
              " 0,\n",
              " 2,\n",
              " 1,\n",
              " 1,\n",
              " 1,\n",
              " 2,\n",
              " 2,\n",
              " 2,\n",
              " 2,\n",
              " 2,\n",
              " 0,\n",
              " 0]"
            ]
          },
          "metadata": {},
          "execution_count": 35
        }
      ]
    },
    {
      "cell_type": "code",
      "source": [
        "ClusterID  = pd.DataFrame(cluster)\n",
        "df_pca_km = pd.concat([pca_df,ClusterID], axis=1)\n",
        "df_pca_km.columns=['Country','PC1', 'PC2', 'PC3', 'PC4', 'ClusterID']\n",
        "df_pca_km"
      ],
      "metadata": {
        "colab": {
          "base_uri": "https://localhost:8080/",
          "height": 424
        },
        "id": "HofopSnw7M_f",
        "outputId": "a09be700-47da-4d33-e2d7-56db57b32ea1"
      },
      "execution_count": 36,
      "outputs": [
        {
          "output_type": "execute_result",
          "data": {
            "text/plain": [
              "                 Country       PC1       PC2       PC3       PC4  ClusterID\n",
              "0            Afghanistan  2.913025 -0.095621  0.718118 -1.005255          0\n",
              "1                Albania -0.429911  0.588156  0.333486  1.161059          2\n",
              "2                Algeria  0.285225  0.455174 -1.221505  0.868115          2\n",
              "3                 Angola  2.932423 -1.695555 -1.525044 -0.839625          0\n",
              "4    Antigua and Barbuda -1.033576 -0.136659  0.225721  0.847063          2\n",
              "..                   ...       ...       ...       ...       ...        ...\n",
              "162              Vanuatu  0.820631 -0.639570  0.389923  0.706595          2\n",
              "163            Venezuela  0.551036  1.233886 -3.101350  0.115311          2\n",
              "164              Vietnam -0.498524 -1.390744  0.238526  1.074098          2\n",
              "165                Yemen  1.887451  0.109453 -1.109752 -0.056257          0\n",
              "166               Zambia  2.864064 -0.485998 -0.223167 -0.816364          0\n",
              "\n",
              "[167 rows x 6 columns]"
            ],
            "text/html": [
              "\n",
              "  <div id=\"df-80df7ad3-3223-48f8-acdb-ceb8893b5f74\">\n",
              "    <div class=\"colab-df-container\">\n",
              "      <div>\n",
              "<style scoped>\n",
              "    .dataframe tbody tr th:only-of-type {\n",
              "        vertical-align: middle;\n",
              "    }\n",
              "\n",
              "    .dataframe tbody tr th {\n",
              "        vertical-align: top;\n",
              "    }\n",
              "\n",
              "    .dataframe thead th {\n",
              "        text-align: right;\n",
              "    }\n",
              "</style>\n",
              "<table border=\"1\" class=\"dataframe\">\n",
              "  <thead>\n",
              "    <tr style=\"text-align: right;\">\n",
              "      <th></th>\n",
              "      <th>Country</th>\n",
              "      <th>PC1</th>\n",
              "      <th>PC2</th>\n",
              "      <th>PC3</th>\n",
              "      <th>PC4</th>\n",
              "      <th>ClusterID</th>\n",
              "    </tr>\n",
              "  </thead>\n",
              "  <tbody>\n",
              "    <tr>\n",
              "      <th>0</th>\n",
              "      <td>Afghanistan</td>\n",
              "      <td>2.913025</td>\n",
              "      <td>-0.095621</td>\n",
              "      <td>0.718118</td>\n",
              "      <td>-1.005255</td>\n",
              "      <td>0</td>\n",
              "    </tr>\n",
              "    <tr>\n",
              "      <th>1</th>\n",
              "      <td>Albania</td>\n",
              "      <td>-0.429911</td>\n",
              "      <td>0.588156</td>\n",
              "      <td>0.333486</td>\n",
              "      <td>1.161059</td>\n",
              "      <td>2</td>\n",
              "    </tr>\n",
              "    <tr>\n",
              "      <th>2</th>\n",
              "      <td>Algeria</td>\n",
              "      <td>0.285225</td>\n",
              "      <td>0.455174</td>\n",
              "      <td>-1.221505</td>\n",
              "      <td>0.868115</td>\n",
              "      <td>2</td>\n",
              "    </tr>\n",
              "    <tr>\n",
              "      <th>3</th>\n",
              "      <td>Angola</td>\n",
              "      <td>2.932423</td>\n",
              "      <td>-1.695555</td>\n",
              "      <td>-1.525044</td>\n",
              "      <td>-0.839625</td>\n",
              "      <td>0</td>\n",
              "    </tr>\n",
              "    <tr>\n",
              "      <th>4</th>\n",
              "      <td>Antigua and Barbuda</td>\n",
              "      <td>-1.033576</td>\n",
              "      <td>-0.136659</td>\n",
              "      <td>0.225721</td>\n",
              "      <td>0.847063</td>\n",
              "      <td>2</td>\n",
              "    </tr>\n",
              "    <tr>\n",
              "      <th>...</th>\n",
              "      <td>...</td>\n",
              "      <td>...</td>\n",
              "      <td>...</td>\n",
              "      <td>...</td>\n",
              "      <td>...</td>\n",
              "      <td>...</td>\n",
              "    </tr>\n",
              "    <tr>\n",
              "      <th>162</th>\n",
              "      <td>Vanuatu</td>\n",
              "      <td>0.820631</td>\n",
              "      <td>-0.639570</td>\n",
              "      <td>0.389923</td>\n",
              "      <td>0.706595</td>\n",
              "      <td>2</td>\n",
              "    </tr>\n",
              "    <tr>\n",
              "      <th>163</th>\n",
              "      <td>Venezuela</td>\n",
              "      <td>0.551036</td>\n",
              "      <td>1.233886</td>\n",
              "      <td>-3.101350</td>\n",
              "      <td>0.115311</td>\n",
              "      <td>2</td>\n",
              "    </tr>\n",
              "    <tr>\n",
              "      <th>164</th>\n",
              "      <td>Vietnam</td>\n",
              "      <td>-0.498524</td>\n",
              "      <td>-1.390744</td>\n",
              "      <td>0.238526</td>\n",
              "      <td>1.074098</td>\n",
              "      <td>2</td>\n",
              "    </tr>\n",
              "    <tr>\n",
              "      <th>165</th>\n",
              "      <td>Yemen</td>\n",
              "      <td>1.887451</td>\n",
              "      <td>0.109453</td>\n",
              "      <td>-1.109752</td>\n",
              "      <td>-0.056257</td>\n",
              "      <td>0</td>\n",
              "    </tr>\n",
              "    <tr>\n",
              "      <th>166</th>\n",
              "      <td>Zambia</td>\n",
              "      <td>2.864064</td>\n",
              "      <td>-0.485998</td>\n",
              "      <td>-0.223167</td>\n",
              "      <td>-0.816364</td>\n",
              "      <td>0</td>\n",
              "    </tr>\n",
              "  </tbody>\n",
              "</table>\n",
              "<p>167 rows × 6 columns</p>\n",
              "</div>\n",
              "      <button class=\"colab-df-convert\" onclick=\"convertToInteractive('df-80df7ad3-3223-48f8-acdb-ceb8893b5f74')\"\n",
              "              title=\"Convert this dataframe to an interactive table.\"\n",
              "              style=\"display:none;\">\n",
              "        \n",
              "  <svg xmlns=\"http://www.w3.org/2000/svg\" height=\"24px\"viewBox=\"0 0 24 24\"\n",
              "       width=\"24px\">\n",
              "    <path d=\"M0 0h24v24H0V0z\" fill=\"none\"/>\n",
              "    <path d=\"M18.56 5.44l.94 2.06.94-2.06 2.06-.94-2.06-.94-.94-2.06-.94 2.06-2.06.94zm-11 1L8.5 8.5l.94-2.06 2.06-.94-2.06-.94L8.5 2.5l-.94 2.06-2.06.94zm10 10l.94 2.06.94-2.06 2.06-.94-2.06-.94-.94-2.06-.94 2.06-2.06.94z\"/><path d=\"M17.41 7.96l-1.37-1.37c-.4-.4-.92-.59-1.43-.59-.52 0-1.04.2-1.43.59L10.3 9.45l-7.72 7.72c-.78.78-.78 2.05 0 2.83L4 21.41c.39.39.9.59 1.41.59.51 0 1.02-.2 1.41-.59l7.78-7.78 2.81-2.81c.8-.78.8-2.07 0-2.86zM5.41 20L4 18.59l7.72-7.72 1.47 1.35L5.41 20z\"/>\n",
              "  </svg>\n",
              "      </button>\n",
              "      \n",
              "  <style>\n",
              "    .colab-df-container {\n",
              "      display:flex;\n",
              "      flex-wrap:wrap;\n",
              "      gap: 12px;\n",
              "    }\n",
              "\n",
              "    .colab-df-convert {\n",
              "      background-color: #E8F0FE;\n",
              "      border: none;\n",
              "      border-radius: 50%;\n",
              "      cursor: pointer;\n",
              "      display: none;\n",
              "      fill: #1967D2;\n",
              "      height: 32px;\n",
              "      padding: 0 0 0 0;\n",
              "      width: 32px;\n",
              "    }\n",
              "\n",
              "    .colab-df-convert:hover {\n",
              "      background-color: #E2EBFA;\n",
              "      box-shadow: 0px 1px 2px rgba(60, 64, 67, 0.3), 0px 1px 3px 1px rgba(60, 64, 67, 0.15);\n",
              "      fill: #174EA6;\n",
              "    }\n",
              "\n",
              "    [theme=dark] .colab-df-convert {\n",
              "      background-color: #3B4455;\n",
              "      fill: #D2E3FC;\n",
              "    }\n",
              "\n",
              "    [theme=dark] .colab-df-convert:hover {\n",
              "      background-color: #434B5C;\n",
              "      box-shadow: 0px 1px 3px 1px rgba(0, 0, 0, 0.15);\n",
              "      filter: drop-shadow(0px 1px 2px rgba(0, 0, 0, 0.3));\n",
              "      fill: #FFFFFF;\n",
              "    }\n",
              "  </style>\n",
              "\n",
              "      <script>\n",
              "        const buttonEl =\n",
              "          document.querySelector('#df-80df7ad3-3223-48f8-acdb-ceb8893b5f74 button.colab-df-convert');\n",
              "        buttonEl.style.display =\n",
              "          google.colab.kernel.accessAllowed ? 'block' : 'none';\n",
              "\n",
              "        async function convertToInteractive(key) {\n",
              "          const element = document.querySelector('#df-80df7ad3-3223-48f8-acdb-ceb8893b5f74');\n",
              "          const dataTable =\n",
              "            await google.colab.kernel.invokeFunction('convertToInteractive',\n",
              "                                                     [key], {});\n",
              "          if (!dataTable) return;\n",
              "\n",
              "          const docLinkHtml = 'Like what you see? Visit the ' +\n",
              "            '<a target=\"_blank\" href=https://colab.research.google.com/notebooks/data_table.ipynb>data table notebook</a>'\n",
              "            + ' to learn more about interactive tables.';\n",
              "          element.innerHTML = '';\n",
              "          dataTable['output_type'] = 'display_data';\n",
              "          await google.colab.output.renderOutput(dataTable, element);\n",
              "          const docLink = document.createElement('div');\n",
              "          docLink.innerHTML = docLinkHtml;\n",
              "          element.appendChild(docLink);\n",
              "        }\n",
              "      </script>\n",
              "    </div>\n",
              "  </div>\n",
              "  "
            ]
          },
          "metadata": {},
          "execution_count": 36
        }
      ]
    },
    {
      "cell_type": "code",
      "source": [
        "for k in range(0,4):\n",
        "  k_Means_countries = df[df_pca_km['ClusterID'] == k]\n",
        "  print(\"For Cluster=\",k,k_Means_countries.country.unique())"
      ],
      "metadata": {
        "colab": {
          "base_uri": "https://localhost:8080/"
        },
        "id": "hyTlrbOH-TTy",
        "outputId": "595ab1f0-3952-4d4f-b053-71609145d2e0"
      },
      "execution_count": 37,
      "outputs": [
        {
          "output_type": "stream",
          "name": "stdout",
          "text": [
            "For Cluster= 0 ['Afghanistan' 'Angola' 'Benin' 'Botswana' 'Burkina Faso' 'Burundi'\n",
            " 'Cameroon' 'Central African Republic' 'Chad' 'Comoros' 'Congo, Dem. Rep.'\n",
            " 'Congo, Rep.' \"Cote d'Ivoire\" 'Equatorial Guinea' 'Eritrea' 'Gabon'\n",
            " 'Gambia' 'Ghana' 'Guinea' 'Guinea-Bissau' 'Haiti' 'Iraq' 'Kenya'\n",
            " 'Kiribati' 'Lao' 'Lesotho' 'Liberia' 'Madagascar' 'Malawi' 'Mali'\n",
            " 'Mauritania' 'Mozambique' 'Namibia' 'Niger' 'Nigeria' 'Pakistan' 'Rwanda'\n",
            " 'Senegal' 'Sierra Leone' 'Solomon Islands' 'South Africa' 'Sudan'\n",
            " 'Tanzania' 'Timor-Leste' 'Togo' 'Uganda' 'Yemen' 'Zambia']\n",
            "For Cluster= 1 ['Australia' 'Austria' 'Belgium' 'Brunei' 'Canada' 'Cyprus' 'Denmark'\n",
            " 'Finland' 'France' 'Germany' 'Greece' 'Iceland' 'Ireland' 'Israel'\n",
            " 'Italy' 'Japan' 'Kuwait' 'Netherlands' 'New Zealand' 'Norway' 'Portugal'\n",
            " 'Qatar' 'Slovenia' 'South Korea' 'Spain' 'Sweden' 'Switzerland'\n",
            " 'United Arab Emirates' 'United Kingdom' 'United States']\n",
            "For Cluster= 2 ['Albania' 'Algeria' 'Antigua and Barbuda' 'Argentina' 'Armenia'\n",
            " 'Azerbaijan' 'Bahamas' 'Bahrain' 'Bangladesh' 'Barbados' 'Belarus'\n",
            " 'Belize' 'Bhutan' 'Bolivia' 'Bosnia and Herzegovina' 'Brazil' 'Bulgaria'\n",
            " 'Cambodia' 'Cape Verde' 'Chile' 'China' 'Colombia' 'Costa Rica' 'Croatia'\n",
            " 'Czech Republic' 'Dominican Republic' 'Ecuador' 'Egypt' 'El Salvador'\n",
            " 'Estonia' 'Fiji' 'Georgia' 'Grenada' 'Guatemala' 'Guyana' 'Hungary'\n",
            " 'India' 'Indonesia' 'Iran' 'Jamaica' 'Jordan' 'Kazakhstan'\n",
            " 'Kyrgyz Republic' 'Latvia' 'Lebanon' 'Libya' 'Lithuania' 'Macedonia, FYR'\n",
            " 'Malaysia' 'Maldives' 'Mauritius' 'Micronesia, Fed. Sts.' 'Moldova'\n",
            " 'Mongolia' 'Montenegro' 'Morocco' 'Myanmar' 'Nepal' 'Oman' 'Panama'\n",
            " 'Paraguay' 'Peru' 'Philippines' 'Poland' 'Romania' 'Russia' 'Samoa'\n",
            " 'Saudi Arabia' 'Serbia' 'Seychelles' 'Slovak Republic' 'Sri Lanka'\n",
            " 'St. Vincent and the Grenadines' 'Suriname' 'Tajikistan' 'Thailand'\n",
            " 'Tonga' 'Tunisia' 'Turkey' 'Turkmenistan' 'Ukraine' 'Uruguay'\n",
            " 'Uzbekistan' 'Vanuatu' 'Venezuela' 'Vietnam']\n",
            "For Cluster= 3 ['Luxembourg' 'Malta' 'Singapore']\n"
          ]
        }
      ]
    },
    {
      "cell_type": "code",
      "source": [
        "sns.scatterplot(x='PC1',y='PC2',data=df_pca_km,hue='ClusterID')"
      ],
      "metadata": {
        "colab": {
          "base_uri": "https://localhost:8080/",
          "height": 296
        },
        "id": "0BoCUhEG8rso",
        "outputId": "6dec2b4d-ca6f-4a52-cc04-7e0a469551e2"
      },
      "execution_count": 38,
      "outputs": [
        {
          "output_type": "execute_result",
          "data": {
            "text/plain": [
              "<matplotlib.axes._subplots.AxesSubplot at 0x7f4f4c299c10>"
            ]
          },
          "metadata": {},
          "execution_count": 38
        },
        {
          "output_type": "display_data",
          "data": {
            "text/plain": [
              "<Figure size 432x288 with 1 Axes>"
            ],
            "image/png": "[encoded data removed]"
          },
          "metadata": {
            "needs_background": "light"
          }
        }
      ]
    },
    {
      "cell_type": "code",
      "source": [
        "sns.barplot(x=df_pca_km.ClusterID, y=df['gdpp'])\n",
        "plt.show()"
      ],
      "metadata": {
        "colab": {
          "base_uri": "https://localhost:8080/",
          "height": 279
        },
        "id": "4fIHYiNWBA9A",
        "outputId": "a287cd32-1afa-4fe0-a86b-03e0dd6c1d5b"
      },
      "execution_count": 39,
      "outputs": [
        {
          "output_type": "display_data",
          "data": {
            "text/plain": [
              "<Figure size 432x288 with 1 Axes>"
            ],
            "image/png": "[encoded data removed]"
          },
          "metadata": {
            "needs_background": "light"
          }
        }
      ]
    },
    {
      "cell_type": "code",
      "source": [
        "sns.barplot(x=df_pca_km.ClusterID, y=df['health'])\n",
        "plt.show()"
      ],
      "metadata": {
        "colab": {
          "base_uri": "https://localhost:8080/",
          "height": 279
        },
        "id": "wyW5YjufSOX6",
        "outputId": "b23d2976-eb04-41a6-803f-31e2ebe50e6e"
      },
      "execution_count": 40,
      "outputs": [
        {
          "output_type": "display_data",
          "data": {
            "text/plain": [
              "<Figure size 432x288 with 1 Axes>"
            ],
            "image/png": "[encoded data removed]"
          },
          "metadata": {
            "needs_background": "light"
          }
        }
      ]
    },
    {
      "cell_type": "code",
      "source": [
        "sns.barplot(x=df_pca_km.ClusterID, y=df['child_mort'])\n",
        "plt.show()"
      ],
      "metadata": {
        "colab": {
          "base_uri": "https://localhost:8080/",
          "height": 279
        },
        "id": "PbE-OlXsSbKb",
        "outputId": "a871a61b-e671-44f4-ae61-51bc94e72321"
      },
      "execution_count": 41,
      "outputs": [
        {
          "output_type": "display_data",
          "data": {
            "text/plain": [
              "<Figure size 432x288 with 1 Axes>"
            ],
            "image/png": "[encoded data removed]"
          },
          "metadata": {
            "needs_background": "light"
          }
        }
      ]
    },
    {
      "cell_type": "code",
      "source": [
        "sns.barplot(x=df_pca_km.ClusterID, y=df['life_expec'])\n",
        "plt.show()"
      ],
      "metadata": {
        "colab": {
          "base_uri": "https://localhost:8080/",
          "height": 279
        },
        "id": "Ene45DLrSftc",
        "outputId": "82190b4c-588b-4f77-98ea-a5a2599098ae"
      },
      "execution_count": 42,
      "outputs": [
        {
          "output_type": "display_data",
          "data": {
            "text/plain": [
              "<Figure size 432x288 with 1 Axes>"
            ],
            "image/png": "[encoded data removed]"
          },
          "metadata": {
            "needs_background": "light"
          }
        }
      ]
    },
    {
      "cell_type": "code",
      "source": [
        "sns.barplot(x=df_pca_km.ClusterID, y=df['total_fer'])\n",
        "plt.show()"
      ],
      "metadata": {
        "colab": {
          "base_uri": "https://localhost:8080/",
          "height": 279
        },
        "id": "x2Rs8K9JSjij",
        "outputId": "cc43530f-48dc-41d2-a756-30a008d21a60"
      },
      "execution_count": 43,
      "outputs": [
        {
          "output_type": "display_data",
          "data": {
            "text/plain": [
              "<Figure size 432x288 with 1 Axes>"
            ],
            "image/png": "[encoded data removed]"
          },
          "metadata": {
            "needs_background": "light"
          }
        }
      ]
    },
    {
      "cell_type": "code",
      "source": [
        "sns.barplot(x=df_pca_km.ClusterID, y=df['inflation'])\n",
        "plt.show()"
      ],
      "metadata": {
        "colab": {
          "base_uri": "https://localhost:8080/",
          "height": 279
        },
        "id": "DvfqjGnJSrCy",
        "outputId": "4f8a0030-a3c0-4ac7-b56f-6f05e48707b7"
      },
      "execution_count": 44,
      "outputs": [
        {
          "output_type": "display_data",
          "data": {
            "text/plain": [
              "<Figure size 432x288 with 1 Axes>"
            ],
            "image/png": "[encoded data removed]"
          },
          "metadata": {
            "needs_background": "light"
          }
        }
      ]
    },
    {
      "cell_type": "markdown",
      "source": [
        "Cluster 0 :- Low Income Countries\n",
        "\n",
        "Cluster 1 :- High Income Countries\n",
        "\n",
        "\n",
        "\n",
        "Cluster 2 :- Medium Income Countries\n",
        "\n",
        "Cluster 3 :- Very High Income Countries"
      ],
      "metadata": {
        "id": "3f_3NWsQTFf1"
      }
    }
  ]
}